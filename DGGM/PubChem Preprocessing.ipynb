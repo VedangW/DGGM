{
 "cells": [
  {
   "cell_type": "markdown",
   "metadata": {},
   "source": [
    "**Preprocessing of the PubChem Database of Substances**\n",
    "\n",
    "The downloaded dataset comprises of a sequence of SMILES strings and some empty strings which are to be converted to MACCS fingerprints for the dataset."
   ]
  },
  {
   "cell_type": "code",
   "execution_count": 1,
   "metadata": {},
   "outputs": [],
   "source": [
    "from tqdm import tqdm\n",
    "from rdkit import Chem\n",
    "from rdkit.Chem import MACCSkeys"
   ]
  },
  {
   "cell_type": "code",
   "execution_count": 2,
   "metadata": {},
   "outputs": [],
   "source": [
    "def retrieve_smiles(l):\n",
    "    \"\"\" Retrieves the smiles representation from a line in file \"\"\"\n",
    "    \n",
    "    l = str(l)\n",
    "    l = l.split(\"\\\\t\")\n",
    "    return [l[0].split(\"'\")[1], l[1].split(\"\\\\n\")[0]]"
   ]
  },
  {
   "cell_type": "code",
   "execution_count": 3,
   "metadata": {},
   "outputs": [
    {
     "data": {
      "text/plain": [
       "427034"
      ]
     },
     "execution_count": 3,
     "metadata": {},
     "output_type": "execute_result"
    }
   ],
   "source": [
    "f0 = open('1-100000.txt', 'rb')\n",
    "f1 = open('100000-600000.txt', 'rb')\n",
    "f2 = open('600000-1000000.txt', 'rb')\n",
    "\n",
    "def get_smiles_from_file(f):\n",
    "    \"\"\" Gets SMILES from a file 'f' \"\"\"\n",
    "\n",
    "    lines = f.readlines()\n",
    "\n",
    "    # Create SMILES list\n",
    "    smiles = []\n",
    "    for i in range(len(lines)):\n",
    "        smiles.append(retrieve_smiles(lines[i]))\n",
    "\n",
    "    # Remove all empty strings\n",
    "    smiles = list(filter(None, [smiles[i][1] for i in range(len(smiles))]))\n",
    "    \n",
    "    return smiles\n",
    "\n",
    "# Concatenate all read SMILES into one list\n",
    "smiles = get_smiles_from_file(f0) + get_smiles_from_file(f1) + get_smiles_from_file(f2)\n",
    "\n",
    "# Close files\n",
    "f0.close()\n",
    "f1.close()\n",
    "f2.close()\n",
    "\n",
    "len(smiles)"
   ]
  },
  {
   "cell_type": "code",
   "execution_count": 4,
   "metadata": {},
   "outputs": [
    {
     "name": "stderr",
     "output_type": "stream",
     "text": [
      "100%|██████████| 427034/427034 [16:30<00:00, 431.08it/s]\n"
     ]
    }
   ],
   "source": [
    "# Convert all SMILES to MACCS Keys\n",
    "maccs = []\n",
    "for i in tqdm(range(len(smiles))):\n",
    "    # Convert SMILES to Molecule object\n",
    "    molecule = Chem.MolFromSmiles(smiles[i])\n",
    "    try:\n",
    "        # Get MACCS Key from Molecule object\n",
    "        maccs_key = MACCSkeys.GenMACCSKeys(molecule)\n",
    "        maccs.append(maccs_key)\n",
    "    except:\n",
    "        continue"
   ]
  },
  {
   "cell_type": "code",
   "execution_count": 5,
   "metadata": {},
   "outputs": [
    {
     "data": {
      "text/plain": [
       "426992"
      ]
     },
     "execution_count": 5,
     "metadata": {},
     "output_type": "execute_result"
    }
   ],
   "source": [
    "len(maccs)"
   ]
  },
  {
   "cell_type": "code",
   "execution_count": 6,
   "metadata": {},
   "outputs": [
    {
     "data": {
      "text/plain": [
       "<rdkit.DataStructs.cDataStructs.ExplicitBitVect at 0x7fc8c412a030>"
      ]
     },
     "execution_count": 6,
     "metadata": {},
     "output_type": "execute_result"
    }
   ],
   "source": [
    "maccs[0]"
   ]
  },
  {
   "cell_type": "code",
   "execution_count": 7,
   "metadata": {},
   "outputs": [
    {
     "name": "stderr",
     "output_type": "stream",
     "text": [
      "100%|██████████| 426992/426992 [00:00<00:00, 436004.07it/s]\n"
     ]
    }
   ],
   "source": [
    "for i in tqdm(range(len(maccs))):\n",
    "    maccs[i] = maccs[i].ToBitString()"
   ]
  },
  {
   "cell_type": "code",
   "execution_count": 8,
   "metadata": {},
   "outputs": [
    {
     "data": {
      "text/plain": [
       "'00000000000000000000000001001000000000100011000000000100000000000100000010010101101111010111100111101100011101100100010011100111010111110111101110101011111111110111110'"
      ]
     },
     "execution_count": 8,
     "metadata": {},
     "output_type": "execute_result"
    }
   ],
   "source": [
    "maccs[0]"
   ]
  },
  {
   "cell_type": "code",
   "execution_count": 9,
   "metadata": {},
   "outputs": [],
   "source": [
    "# Save to disk\n",
    "import pickle\n",
    "\n",
    "dataset = open('maccs.pkl', 'wb')\n",
    "pickle.dump(maccs, dataset)\n",
    "dataset.close()"
   ]
  },
  {
   "cell_type": "markdown",
   "metadata": {},
   "source": [
    "Some other calculations"
   ]
  },
  {
   "cell_type": "code",
   "execution_count": 11,
   "metadata": {},
   "outputs": [
    {
     "data": {
      "text/plain": [
       "167"
      ]
     },
     "execution_count": 11,
     "metadata": {},
     "output_type": "execute_result"
    }
   ],
   "source": [
    "len(maccs[0])"
   ]
  },
  {
   "cell_type": "code",
   "execution_count": 15,
   "metadata": {},
   "outputs": [],
   "source": [
    "# Check if size of all fingerprints is 167\n",
    "count = 0\n",
    "for fp in maccs:\n",
    "    if len(fp) != 167:\n",
    "        count += 1\n",
    "        \n",
    "assert count == 0"
   ]
  }
 ],
 "metadata": {
  "kernelspec": {
   "display_name": "Python 3",
   "language": "python",
   "name": "python3"
  },
  "language_info": {
   "codemirror_mode": {
    "name": "ipython",
    "version": 3
   },
   "file_extension": ".py",
   "mimetype": "text/x-python",
   "name": "python",
   "nbconvert_exporter": "python",
   "pygments_lexer": "ipython3",
   "version": "3.6.5"
  }
 },
 "nbformat": 4,
 "nbformat_minor": 2
}

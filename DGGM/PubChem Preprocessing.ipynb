{
 "cells": [
  {
   "cell_type": "markdown",
   "metadata": {},
   "source": [
    "**Preprocessing of the PubChem Database of Substances**\n",
    "\n",
    "The downloaded dataset comprises of a sequence of SMILES strings and some empty strings which are to be converted to MACCS fingerprints for the dataset."
   ]
  },
  {
   "cell_type": "code",
   "execution_count": null,
   "metadata": {},
   "outputs": [],
   "source": [
    "import os\n",
    "\n",
    "from tqdm import tqdm\n",
    "from rdkit import Chem\n",
    "from rdkit.Chem import MACCSkeys"
   ]
  },
  {
   "cell_type": "code",
   "execution_count": null,
   "metadata": {},
   "outputs": [],
   "source": [
    "def retrieve_smiles(l):\n",
    "    \"\"\" Retrieves the smiles representation from a line in file \"\"\"\n",
    "    \n",
    "    l = str(l)\n",
    "    l = l.split(\"\\\\t\")\n",
    "    return [l[0].split(\"'\")[1], l[1].split(\"\\\\n\")[0]]"
   ]
  },
  {
   "cell_type": "code",
   "execution_count": null,
   "metadata": {},
   "outputs": [],
   "source": [
    "def get_smiles_from_file(f):\n",
    "    \"\"\" Gets SMILES from a file 'f' \"\"\"\n",
    "\n",
    "    lines = f.readlines()\n",
    "\n",
    "    # Create SMILES list\n",
    "    smiles = []\n",
    "    for i in range(len(lines)):\n",
    "        smiles.append(retrieve_smiles(lines[i]))\n",
    "\n",
    "    # Remove all empty strings\n",
    "    smiles = list(filter(None, [smiles[i][1] for i in range(len(smiles))]))\n",
    "    \n",
    "    return smiles"
   ]
  },
  {
   "cell_type": "code",
   "execution_count": null,
   "metadata": {},
   "outputs": [],
   "source": [
    "smiles = []\n",
    "files = os.listdir('data')\n",
    "for i in tqdm(range(len(files))):\n",
    "#     print (\"Reading \" + files[i] + \"...\")\n",
    "    f = open('data/' + files[i], 'rb')\n",
    "    smiles += get_smiles_from_file(f)\n",
    "    f.close()\n",
    "\n",
    "len(smiles)"
   ]
  },
  {
   "cell_type": "code",
   "execution_count": null,
   "metadata": {},
   "outputs": [],
   "source": [
    "# Convert all SMILES to MACCS Keys\n",
    "maccs = []\n",
    "for i in tqdm(range(len(smiles))):\n",
    "    # Convert SMILES to Molecule object\n",
    "    molecule = Chem.MolFromSmiles(smiles[i])\n",
    "    try:\n",
    "        # Get MACCS Key from Molecule object\n",
    "        maccs_key = MACCSkeys.GenMACCSKeys(molecule)\n",
    "        maccs.append(maccs_key)\n",
    "    except:\n",
    "        continue"
   ]
  },
  {
   "cell_type": "code",
   "execution_count": null,
   "metadata": {},
   "outputs": [],
   "source": [
    "for i in tqdm(range(len(maccs))):\n",
    "    maccs[i] = maccs[i].ToBitString()"
   ]
  },
  {
   "cell_type": "code",
   "execution_count": null,
   "metadata": {},
   "outputs": [],
   "source": [
    "print (maccs[0])\n",
    "print (\"Number of features =\", len(maccs[0]))\n",
    "\n",
    "# Check if size of all fingerprints is 167\n",
    "count = 0\n",
    "for fp in maccs:\n",
    "    if len(fp) != 167:\n",
    "        count += 1\n",
    "        \n",
    "assert count == 0"
   ]
  },
  {
   "cell_type": "code",
   "execution_count": null,
   "metadata": {},
   "outputs": [],
   "source": [
    "# Save as a txt file\n",
    "train_set = maccs[0: int(len(maccs)*0.8)]\n",
    "test_set = maccs[int(len(maccs)*0.8): int(len(maccs))]\n",
    "\n",
    "train = open('train_aae_10m', 'w')\n",
    "test = open('test_aae_10m', 'w')\n",
    "\n",
    "for i in tqdm(range(len(train_set))):\n",
    "    train.write(str(i) + '\\t' + train_set[i] + '\\n')\n",
    "    \n",
    "for i in tqdm(range(len(test_set))):\n",
    "    test.write(str(i) + '\\t' + test_set[i] + '\\n')\n",
    "    \n",
    "train.close()\n",
    "test.close()"
   ]
  },
  {
   "cell_type": "code",
   "execution_count": null,
   "metadata": {},
   "outputs": [],
   "source": [
    "train = open('train_aae_10m')\n",
    "test = open('test_aae_10m')\n",
    "\n",
    "print (\"Number of training samples = \", len(train.readlines()))\n",
    "print (\"Number of testing samples = \", len(test.readlines()))\n",
    "\n",
    "train.close()\n",
    "test.close()"
   ]
  }
 ],
 "metadata": {
  "kernelspec": {
   "display_name": "Python 3",
   "language": "python",
   "name": "python3"
  },
  "language_info": {
   "codemirror_mode": {
    "name": "ipython",
    "version": 3
   },
   "file_extension": ".py",
   "mimetype": "text/x-python",
   "name": "python",
   "nbconvert_exporter": "python",
   "pygments_lexer": "ipython3",
   "version": "3.6.5"
  }
 },
 "nbformat": 4,
 "nbformat_minor": 2
}

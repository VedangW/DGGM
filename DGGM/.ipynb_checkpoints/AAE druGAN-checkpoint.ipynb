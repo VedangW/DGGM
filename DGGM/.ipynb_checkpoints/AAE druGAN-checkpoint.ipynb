{
 "cells": [
  {
   "cell_type": "markdown",
   "metadata": {},
   "source": [
    "A working implementation of the AAE in Tensorflow as in the old GitHub repository."
   ]
  },
  {
   "cell_type": "code",
   "execution_count": 1,
   "metadata": {},
   "outputs": [
    {
     "name": "stderr",
     "output_type": "stream",
     "text": [
      "/home/vedang/anaconda3/lib/python3.6/site-packages/h5py/__init__.py:36: FutureWarning: Conversion of the second argument of issubdtype from `float` to `np.floating` is deprecated. In future, it will be treated as `np.float64 == np.dtype(float).type`.\n",
      "  from ._conv import register_converters as _register_converters\n"
     ]
    }
   ],
   "source": [
    "import numpy as np\n",
    "import tensorflow as tf\n",
    "from tqdm import tqdm"
   ]
  },
  {
   "cell_type": "code",
   "execution_count": 2,
   "metadata": {},
   "outputs": [],
   "source": [
    "# Load the train and test files\n",
    "\n",
    "train = 'train_aae.txt'\n",
    "test = 'test_aae.txt'"
   ]
  },
  {
   "cell_type": "markdown",
   "metadata": {},
   "source": [
    "```batch_gen``` generates the batches and randomly shuffles them and ```buffered_gen``` generates the buffer and uses it to store the batches."
   ]
  },
  {
   "cell_type": "code",
   "execution_count": 3,
   "metadata": {},
   "outputs": [],
   "source": [
    "def batch_gen(data, batch_n):\n",
    "    \"\"\"\n",
    "    Given the data, returns the batches using random shuffling.\n",
    "    \n",
    "    Parameters\n",
    "    ----------\n",
    "    data: np.array\n",
    "        Consists of all the instances set into a numpy array\n",
    "    batch_n: int\n",
    "        Size of each batch\n",
    "        \n",
    "    Returns\n",
    "    -------\n",
    "    data: Generator object\n",
    "        A generator object with all the batches in it.\n",
    "    \n",
    "    \"\"\"\n",
    "    # Create a list of indices for the data,\n",
    "    # which is of the same size as the data.\n",
    "    # For eg,\n",
    "    #     If data is of size 1000,\n",
    "    #     inds = [0, 1, ..., 999]\n",
    "    inds = list(range(data.shape[0]))\n",
    "    \n",
    "    # Randomly shuffle the indices.\n",
    "    # For eg,\n",
    "    #     inds = [650, 720, ..., 2]\n",
    "    np.random.shuffle(inds)\n",
    "    \n",
    "    # Generate size of data / batch size\n",
    "    # number of batches.\n",
    "    # For eg,\n",
    "    #     If data is of size 1000 and \n",
    "    #     batch_n = 50, then i will be\n",
    "    #     in range 0, 19\n",
    "    for i in range(int(data.shape[0] / batch_n)):\n",
    "        \n",
    "        # Split inds according to the batches\n",
    "        # created by i\n",
    "        ii = inds[i*batch_n:(i+1)*batch_n]\n",
    "        \n",
    "        # Return a generator with each index\n",
    "        # in ii matching that tuple from data.\n",
    "        # For eg,\n",
    "        #     If data = [[0, 1], [1, 2], ..., [999, 1000]]\n",
    "        #     and ii = [50, 55, 1] (and batch_n = 3)\n",
    "        #     then return [[50, 51], [55, 56], [1, 2]]\n",
    "        yield data[ii, :]"
   ]
  },
  {
   "cell_type": "code",
   "execution_count": 4,
   "metadata": {},
   "outputs": [],
   "source": [
    "def buffered_gen(f, batch_n=1024, buffer_size=2000):\n",
    "    \"\"\"\n",
    "    Creates the batches by reading a file 'f', where the\n",
    "    data is stored. \n",
    "    \n",
    "    The data is stored in a buffer.\n",
    "    \n",
    "    Parameters\n",
    "    ----------\n",
    "    \n",
    "    f: str\n",
    "        String containing address of file\n",
    "        \n",
    "    batch_n: int\n",
    "        Size of each batch\n",
    "        \n",
    "    buffer_size: int\n",
    "        Size of the buffer. Denotes total number\n",
    "        of batches which can be possibly stored in\n",
    "        the buffer.\n",
    "        \n",
    "    Returns\n",
    "    -------\n",
    "    A generator object with all the batches in it. \n",
    "    \n",
    "    \"\"\"\n",
    "    \n",
    "    # Open file f\n",
    "    inp = open(f)\n",
    "    \n",
    "    # Create new data list\n",
    "    data = []\n",
    "    \n",
    "    # i = index of line, line is the line read\n",
    "    for i, line in enumerate(inp):\n",
    "        \n",
    "        # For each line,\n",
    "        # the line is first stripped, and the split according to tabs\n",
    "        # the first element is read into an array and each input of it\n",
    "        # is converted to a float. This is then appended to data.\n",
    "        data.append(np.array(list(map(float, line.strip().split('\\t')[1]))))\n",
    "        \n",
    "        # If size of buffer is finished, that is the buffer can store\n",
    "        # data only uptill the number of instances = buffer_size * batch_n\n",
    "        # and if the next instance fills up the buffer, then...\n",
    "        if (i+1) % (buffer_size * batch_n) == 0:\n",
    "            \n",
    "            # Generate batches for whatever has been stored in data so far\n",
    "            bgen = batch_gen(np.vstack(data), batch_n)\n",
    "            \n",
    "            # Yield the batches\n",
    "            for batch in bgen:\n",
    "                yield batch\n",
    "            \n",
    "            # Empty data\n",
    "            data = []\n",
    "            \n",
    "    else:\n",
    "        # Generate batches while leaving out the last element of data\n",
    "        bgen = batch_gen(np.vstack(data[:-1]), batch_n)\n",
    "\n",
    "        # Yield the batches\n",
    "        for batch in bgen:\n",
    "            yield batch"
   ]
  },
  {
   "cell_type": "markdown",
   "metadata": {},
   "source": [
    "To load the data from the test samples."
   ]
  },
  {
   "cell_type": "code",
   "execution_count": 5,
   "metadata": {},
   "outputs": [],
   "source": [
    "def load_test():\n",
    "    with open(test) as inp:\n",
    "        data = [np.array(list(map(float, line.strip().split('\\t')[1]))) for line in inp]\n",
    "    return np.vstack(data)"
   ]
  },
  {
   "cell_type": "markdown",
   "metadata": {},
   "source": [
    "Utility functions for AAE"
   ]
  },
  {
   "cell_type": "code",
   "execution_count": 6,
   "metadata": {},
   "outputs": [],
   "source": [
    "def he_initializer(size):\n",
    "    return tf.random_normal_initializer(mean=0.0, stddev=np.sqrt(1. / size), seed=None, dtype=tf.float32)"
   ]
  },
  {
   "cell_type": "code",
   "execution_count": 7,
   "metadata": {},
   "outputs": [],
   "source": [
    "def linear_layer(tensor, input_size, out_size, init_fn=he_initializer,):\n",
    "    W = tf.get_variable('W', shape=[input_size, out_size], initializer=init_fn(input_size))\n",
    "    b = tf.get_variable('b', shape=[out_size], initializer=tf.constant_initializer(0.1))\n",
    "    return tf.add(tf.matmul(tensor, W), b)"
   ]
  },
  {
   "cell_type": "code",
   "execution_count": 8,
   "metadata": {},
   "outputs": [],
   "source": [
    "def bn_layer(tensor, size, epsilon=0.0001):\n",
    "    batch_mean, batch_var = tf.nn.moments(tensor, [0])\n",
    "    scale = tf.get_variable('scale', shape=[size], initializer=tf.constant_initializer(1.))\n",
    "    beta = tf.get_variable('beta', shape=[size], initializer=tf.constant_initializer(0.))\n",
    "    return tf.nn.batch_normalization(tensor, batch_mean, batch_var, beta, scale, epsilon)"
   ]
  },
  {
   "cell_type": "code",
   "execution_count": 9,
   "metadata": {},
   "outputs": [],
   "source": [
    "def sample_prior(loc=0., scale=1., size=(64, 10)):\n",
    "    return np.random.normal(loc=loc, scale=scale, size=size)"
   ]
  },
  {
   "cell_type": "markdown",
   "metadata": {},
   "source": [
    "Actual implementation of the AAE"
   ]
  },
  {
   "cell_type": "code",
   "execution_count": 10,
   "metadata": {},
   "outputs": [],
   "source": [
    "class AAE(object):\n",
    "    def __init__(self,\n",
    "                 gpu_config=None,\n",
    "                 batch_size=1024, \n",
    "                 input_space=167,\n",
    "                 latent_space=20,\n",
    "                 middle_layers=None,\n",
    "                 activation_fn=tf.nn.tanh,\n",
    "                 learning_rate=0.001,\n",
    "                 initializer=he_initializer):\n",
    "\n",
    "        self.batch_size = batch_size\n",
    "        self.input_space = input_space\n",
    "        self.latent_space = latent_space\n",
    "        if middle_layers is None:\n",
    "            self.middle_layers = [256, 256]\n",
    "        else:\n",
    "            self.middle_layers = middle_layers\n",
    "        self.activation_fn = activation_fn\n",
    "        self.learning_rate = learning_rate\n",
    "\n",
    "        self.initializer = initializer\n",
    "\n",
    "        tf.reset_default_graph()\n",
    "        \n",
    "        self.input_x = tf.placeholder(tf.float32, [None, input_space])\n",
    "        self.z_tensor = tf.placeholder(tf.float32, [None, latent_space])\n",
    "\n",
    "        # Encoder net: 152->256->256->10\n",
    "        with tf.variable_scope(\"encoder\"):\n",
    "            self.encoder_layers = self.encoder()\n",
    "            self.encoded = self.encoder_layers[-1]\n",
    "        \n",
    "        # Decoder net: 10->256->256->152\n",
    "        with tf.variable_scope(\"decoder\"):\n",
    "            self.decoder_layers = self.decoder(self.encoded)\n",
    "            self.decoded = self.decoder_layers[-1]\n",
    "            tf.get_variable_scope().reuse_variables()\n",
    "            self.generator_layers = self.decoder(self.z_tensor)\n",
    "            self.generated = tf.nn.sigmoid(self.generator_layers[-1])\n",
    "\n",
    "        # Discriminator net: 10->64->64->8->1\n",
    "        sizes = [64, 64, 8, 1]\n",
    "        with tf.variable_scope(\"discriminator\"):\n",
    "            self.disc_layers_neg = self.discriminator(self.encoded, sizes)\n",
    "            self.disc_neg = self.disc_layers_neg[-1]\n",
    "            tf.get_variable_scope().reuse_variables()\n",
    "            self.disc_layers_pos = self.discriminator(self.z_tensor, sizes)\n",
    "            self.disc_pos = self.disc_layers_pos[-1]\n",
    "\n",
    "        self.pos_loss = tf.nn.relu(self.disc_pos) - self.disc_pos + tf.log(1.0 + tf.exp(-tf.abs(self.disc_pos)))\n",
    "        self.neg_loss = tf.nn.relu(self.disc_neg) + tf.log(1.0 + tf.exp(-tf.abs(self.disc_neg)))\n",
    "        self.disc_loss = tf.reduce_mean(tf.add(self.pos_loss, self.neg_loss))\n",
    "            \n",
    "        self.enc_loss = tf.reduce_mean(tf.nn.relu(self.disc_neg) - self.disc_neg + tf.log(1.0 + tf.exp(-tf.abs(self.disc_neg))))\n",
    "        batch_logloss = tf.reduce_sum(tf.nn.sigmoid_cross_entropy_with_logits(logits=self.decoded, labels=self.input_x), 1)\n",
    "        self.dec_loss = tf.reduce_mean(batch_logloss)\n",
    "        \n",
    "        disc_ws = tf.get_collection(tf.GraphKeys.GLOBAL_VARIABLES, scope='discriminator')\n",
    "        enc_ws = tf.get_collection(tf.GraphKeys.GLOBAL_VARIABLES, scope='encoder')\n",
    "        ae_ws = tf.get_collection(tf.GraphKeys.GLOBAL_VARIABLES, scope='encoder') + \\\n",
    "                tf.get_collection(tf.GraphKeys.GLOBAL_VARIABLES, scope='decoder')\n",
    "            \n",
    "        self.train_discriminator = tf.train.AdamOptimizer(self.learning_rate).minimize(self.disc_loss, var_list=disc_ws)\n",
    "        self.train_encoder = tf.train.AdamOptimizer(self.learning_rate).minimize(self.enc_loss, var_list=enc_ws)\n",
    "        self.train_autoencoder = tf.train.AdamOptimizer(self.learning_rate).minimize(self.dec_loss, var_list=ae_ws)\n",
    "\n",
    "        if gpu_config is None:\n",
    "            gpu_config = tf.ConfigProto()\n",
    "            gpu_config.gpu_options.per_process_gpu_memory_fraction = 0.4\n",
    "        \n",
    "        self.sess = tf.Session(config=gpu_config)\n",
    "        self.init_net()\n",
    "        \n",
    "    def encoder(self):\n",
    "        sizes = self.middle_layers + [self.latent_space]\n",
    "        with tf.variable_scope(\"layer-0\"):\n",
    "            encoder_layers = [linear_layer(self.input_x, self.input_space, sizes[0])]\n",
    "        for i in range(len(sizes) - 1):\n",
    "            with tf.variable_scope(\"layer-%i\" % (i+1)):\n",
    "                activated = self.activation_fn(encoder_layers[-1])\n",
    "                normed = bn_layer(activated, sizes[i])\n",
    "                next_layer = linear_layer(normed, sizes[i], sizes[i+1])\n",
    "            encoder_layers.append(next_layer)\n",
    "            \n",
    "        return encoder_layers\n",
    "\n",
    "    def decoder(self, tensor):\n",
    "        sizes = self.middle_layers[::-1] + [self.input_space]\n",
    "        with tf.variable_scope(\"layer-0\"):\n",
    "            decoder_layers = [linear_layer(tensor, self.latent_space, sizes[0])]\n",
    "        for i in range(len(sizes) - 1):\n",
    "            with tf.variable_scope(\"layer-%i\" % (i+1)):\n",
    "                activated = self.activation_fn(decoder_layers[-1])\n",
    "                normed = bn_layer(activated, sizes[i])\n",
    "                next_layer = linear_layer(normed, sizes[i], sizes[i+1])\n",
    "            decoder_layers.append(next_layer)\n",
    "        \n",
    "        return decoder_layers\n",
    "    \n",
    "    def discriminator(self, tensor, sizes):\n",
    "        with tf.variable_scope(\"layer-0\"):\n",
    "            disc_layers = [linear_layer(tensor, self.latent_space, sizes[0])]\n",
    "        for i in range(len(sizes) - 1):\n",
    "            with tf.variable_scope(\"layer-%i\" % (i+1)):\n",
    "                activated = tf.nn.tanh(disc_layers[-1])\n",
    "                normed = bn_layer(activated, sizes[i])\n",
    "                next_layer = linear_layer(normed, sizes[i], sizes[i+1])\n",
    "            disc_layers.append(next_layer)\n",
    "\n",
    "        return disc_layers\n",
    "    \n",
    "    def init_net(self):\n",
    "        init = tf.global_variables_initializer()\n",
    "        self.sess.run(init)        \n",
    "    \n",
    "    def train(self, log):\n",
    "        sess = self.sess\n",
    "        saver = tf.train.Saver()\n",
    "        hist = []\n",
    "        test_data = load_test()\n",
    "        \n",
    "        for e in tqdm(range(5)):\n",
    "            print (log, \"epoch #%d\" % (e+1))\n",
    "            log.flush()\n",
    "            train_gen = buffered_gen(train, batch_n=self.batch_size)\n",
    "            for i, batch_x in enumerate(train_gen):\n",
    "                if i%3 == 0:\n",
    "                    batch_z = sample_prior(scale=1.0, size=(len(batch_x), self.latent_space))\n",
    "                    sess.run(self.train_discriminator, feed_dict={self.input_x: batch_x, self.z_tensor: batch_z})\n",
    "                elif i%3 == 1:\n",
    "                    sess.run(self.train_encoder, feed_dict={self.input_x: batch_x})\n",
    "                else:\n",
    "                    sess.run(self.train_autoencoder, feed_dict={self.input_x: batch_x})\n",
    "                if i%10000 == 0:\n",
    "                    batch_z = sample_prior(scale=1.0, size=(len(test_data), self.latent_space))\n",
    "                    losses = sess.run([self.disc_loss, self.enc_loss, self.dec_loss],\n",
    "                                      feed_dict={self.input_x: test_data, self.z_tensor: batch_z})\n",
    "                    discriminator_loss, encoder_loss, decoder_loss = losses\n",
    "                    print (log, \"disc: %f, encoder : %f, decoder : %f\" % (discriminator_loss/2., encoder_loss, decoder_loss))\n",
    "                    log.flush()\n",
    "            else:\n",
    "                saver.save(sess, './fpt.aae.%de.model.ckpt' % e)\n",
    "                batch_z = sample_prior(scale=1.0, size=(len(test_data), self.latent_space))\n",
    "                losses = sess.run([self.disc_loss, self.enc_loss, self.dec_loss],\n",
    "                                  feed_dict={self.input_x: test_data, self.z_tensor: batch_z})\n",
    "\n",
    "\n",
    "                discriminator_loss, encoder_loss, decoder_loss = losses\n",
    "                print (log, \"disc: %f, encoder : %f, decoder : %f\" % (discriminator_loss/2., encoder_loss, decoder_loss))\n",
    "                log.flush()\n",
    "                hist.append(decoder_loss)\n",
    "        return hist\n",
    "    \n",
    "    def load(self, model):\n",
    "        saver = tf.train.Saver()\n",
    "        saver.restore(self.sess, model)"
   ]
  },
  {
   "cell_type": "code",
   "execution_count": 11,
   "metadata": {},
   "outputs": [],
   "source": [
    "aae = AAE(batch_size=1024)"
   ]
  },
  {
   "cell_type": "code",
   "execution_count": 13,
   "metadata": {},
   "outputs": [
    {
     "name": "stderr",
     "output_type": "stream",
     "text": [
      "\r",
      "  0%|          | 0/5 [00:00<?, ?it/s]"
     ]
    },
    {
     "name": "stdout",
     "output_type": "stream",
     "text": [
      "<_io.TextIOWrapper name='./fpt.aae.log' mode='w' encoding='UTF-8'> epoch #1\n",
      "<_io.TextIOWrapper name='./fpt.aae.log' mode='w' encoding='UTF-8'> disc: 0.778403, encoder : 0.735521, decoder : 137.760376\n"
     ]
    },
    {
     "name": "stderr",
     "output_type": "stream",
     "text": [
      "\r",
      " 20%|██        | 1/5 [00:19<01:17, 19.30s/it]"
     ]
    },
    {
     "name": "stdout",
     "output_type": "stream",
     "text": [
      "<_io.TextIOWrapper name='./fpt.aae.log' mode='w' encoding='UTF-8'> disc: 0.694619, encoder : 0.693951, decoder : 34.534557\n",
      "<_io.TextIOWrapper name='./fpt.aae.log' mode='w' encoding='UTF-8'> epoch #2\n",
      "<_io.TextIOWrapper name='./fpt.aae.log' mode='w' encoding='UTF-8'> disc: 0.694609, encoder : 0.693963, decoder : 34.534557\n"
     ]
    },
    {
     "name": "stderr",
     "output_type": "stream",
     "text": [
      "\r",
      " 40%|████      | 2/5 [00:37<00:55, 18.61s/it]"
     ]
    },
    {
     "name": "stdout",
     "output_type": "stream",
     "text": [
      "<_io.TextIOWrapper name='./fpt.aae.log' mode='w' encoding='UTF-8'> disc: 0.693636, encoder : 0.693353, decoder : 28.003326\n",
      "<_io.TextIOWrapper name='./fpt.aae.log' mode='w' encoding='UTF-8'> epoch #3\n",
      "<_io.TextIOWrapper name='./fpt.aae.log' mode='w' encoding='UTF-8'> disc: 0.693637, encoder : 0.693350, decoder : 28.003326\n"
     ]
    },
    {
     "name": "stderr",
     "output_type": "stream",
     "text": [
      "\r",
      " 60%|██████    | 3/5 [00:54<00:36, 18.33s/it]"
     ]
    },
    {
     "name": "stdout",
     "output_type": "stream",
     "text": [
      "<_io.TextIOWrapper name='./fpt.aae.log' mode='w' encoding='UTF-8'> disc: 0.693400, encoder : 0.693235, decoder : 27.103148\n",
      "<_io.TextIOWrapper name='./fpt.aae.log' mode='w' encoding='UTF-8'> epoch #4\n",
      "<_io.TextIOWrapper name='./fpt.aae.log' mode='w' encoding='UTF-8'> disc: 0.693393, encoder : 0.693233, decoder : 27.103148\n"
     ]
    },
    {
     "name": "stderr",
     "output_type": "stream",
     "text": [
      "\r",
      " 80%|████████  | 4/5 [01:12<00:18, 18.20s/it]"
     ]
    },
    {
     "name": "stdout",
     "output_type": "stream",
     "text": [
      "<_io.TextIOWrapper name='./fpt.aae.log' mode='w' encoding='UTF-8'> disc: 0.693303, encoder : 0.693199, decoder : 26.727512\n",
      "<_io.TextIOWrapper name='./fpt.aae.log' mode='w' encoding='UTF-8'> epoch #5\n",
      "<_io.TextIOWrapper name='./fpt.aae.log' mode='w' encoding='UTF-8'> disc: 0.693301, encoder : 0.693201, decoder : 26.727512\n"
     ]
    },
    {
     "name": "stderr",
     "output_type": "stream",
     "text": [
      "\r",
      "100%|██████████| 5/5 [01:30<00:00, 18.12s/it]"
     ]
    },
    {
     "name": "stdout",
     "output_type": "stream",
     "text": [
      "<_io.TextIOWrapper name='./fpt.aae.log' mode='w' encoding='UTF-8'> disc: 0.693253, encoder : 0.693180, decoder : 26.688211\n"
     ]
    },
    {
     "name": "stderr",
     "output_type": "stream",
     "text": [
      "\n"
     ]
    }
   ],
   "source": [
    "with open('./fpt.aae.log', 'w') as log:\n",
    "     aae_0 = aae.train(log)"
   ]
  },
  {
   "cell_type": "markdown",
   "metadata": {},
   "source": [
    "Generation of new samples"
   ]
  },
  {
   "cell_type": "code",
   "execution_count": 15,
   "metadata": {},
   "outputs": [
    {
     "data": {
      "text/plain": [
       "(85399, 167)"
      ]
     },
     "execution_count": 15,
     "metadata": {},
     "output_type": "execute_result"
    }
   ],
   "source": [
    "test_data = load_test()\n",
    "test_data.shape"
   ]
  },
  {
   "cell_type": "code",
   "execution_count": 16,
   "metadata": {},
   "outputs": [],
   "source": [
    "test_gen = buffered_gen(test, batch_n=aae.batch_size)"
   ]
  },
  {
   "cell_type": "code",
   "execution_count": 17,
   "metadata": {},
   "outputs": [],
   "source": [
    "batch_x = test_gen.__next__()"
   ]
  },
  {
   "cell_type": "code",
   "execution_count": 18,
   "metadata": {},
   "outputs": [
    {
     "data": {
      "text/plain": [
       "array([0., 0., 0., 0., 0., 0., 0., 0., 0., 0., 0., 0., 0., 0., 0., 0., 0.,\n",
       "       0., 0., 0., 0., 0., 0., 0., 1., 0., 0., 0., 0., 0., 0., 0., 0., 0.,\n",
       "       0., 0., 0., 1., 1., 0., 0., 0., 1., 0., 0., 0., 0., 0., 0., 1., 0.,\n",
       "       0., 0., 0., 0., 0., 1., 1., 0., 0., 0., 0., 0., 1., 0., 1., 0., 0.,\n",
       "       0., 0., 1., 1., 1., 0., 0., 0., 0., 1., 0., 1., 1., 0., 0., 1., 0.,\n",
       "       1., 0., 1., 0., 0., 0., 0., 0., 0., 1., 1., 1., 1., 1., 0., 1., 1.,\n",
       "       1., 0., 0., 1., 1., 1., 0., 1., 1., 0., 0., 1., 0., 0., 0., 1., 0.,\n",
       "       1., 1., 1., 1., 0., 1., 1., 1., 1., 1., 1., 1., 0., 1., 1., 1., 1.,\n",
       "       0., 1., 1., 0., 1., 0., 1., 1., 1., 1., 1., 0., 1., 0., 1., 0., 1.,\n",
       "       1., 0., 1., 1., 1., 1., 1., 0., 1., 1., 1., 1., 1., 0.])"
      ]
     },
     "execution_count": 18,
     "metadata": {},
     "output_type": "execute_result"
    }
   ],
   "source": [
    "batch_x[0]"
   ]
  },
  {
   "cell_type": "code",
   "execution_count": 19,
   "metadata": {},
   "outputs": [],
   "source": [
    "enc = aae.sess.run(aae.encoded, feed_dict={aae.input_x: test_data})"
   ]
  },
  {
   "cell_type": "code",
   "execution_count": 21,
   "metadata": {},
   "outputs": [
    {
     "data": {
      "text/plain": [
       "(85399, 20)"
      ]
     },
     "execution_count": 21,
     "metadata": {},
     "output_type": "execute_result"
    }
   ],
   "source": [
    "enc.shape"
   ]
  },
  {
   "cell_type": "code",
   "execution_count": 22,
   "metadata": {},
   "outputs": [],
   "source": [
    "dec = aae.sess.run(aae.decoded, feed_dict={aae.input_x: batch_x})"
   ]
  },
  {
   "cell_type": "code",
   "execution_count": 23,
   "metadata": {},
   "outputs": [
    {
     "data": {
      "text/plain": [
       "(1024, 167)"
      ]
     },
     "execution_count": 23,
     "metadata": {},
     "output_type": "execute_result"
    }
   ],
   "source": [
    "dec.shape"
   ]
  },
  {
   "cell_type": "code",
   "execution_count": 24,
   "metadata": {},
   "outputs": [
    {
     "data": {
      "text/plain": [
       "array([ -6.014559  ,  -6.785594  ,  -5.8095202 ,  -7.96445   ,\n",
       "        -7.768566  ,  -6.8035307 ,  -6.527436  ,  -8.718643  ,\n",
       "        -7.473844  ,  -9.313083  ,  -6.7029114 ,  -7.9353614 ,\n",
       "        -7.4627233 ,  -1.6147963 , -10.846917  ,  -4.625221  ,\n",
       "        -4.1100664 ,  -5.982256  ,  -5.7642307 ,  -3.3863783 ,\n",
       "        -7.0830107 ,  -4.874044  ,  -3.9252963 ,  -2.5529358 ,\n",
       "         6.517262  ,  -2.7470493 ,  -5.4273186 ,  -5.338334  ,\n",
       "        -1.1852738 ,  -0.675893  ,  -5.5367994 ,  -5.8074665 ,\n",
       "        -4.9856567 ,  -4.2996125 ,  -4.2122846 ,  -6.5833645 ,\n",
       "        -8.660137  ,  -1.1710759 ,  -1.2354407 ,  -7.2036414 ,\n",
       "        -7.0606647 ,  -3.8358347 ,  -1.3641307 ,  -6.071869  ,\n",
       "        -9.996083  ,  -5.2806377 ,  -0.7166732 ,  -9.642816  ,\n",
       "        -3.1500642 ,   3.8106854 ,  -7.8430934 ,  -7.018568  ,\n",
       "        -1.9626503 ,  -7.5333977 , -11.606042  ,  -6.073527  ,\n",
       "         3.7799997 ,   2.621253  ,  -5.5237255 ,  -9.621918  ,\n",
       "        -6.0455375 ,  -7.500883  ,  -2.0884979 ,   4.4254146 ,\n",
       "       -10.59996   ,   1.4999564 ,  -8.788036  ,  -7.6069074 ,\n",
       "        -6.7470026 ,  -3.1412454 ,   6.8450465 ,   8.570274  ,\n",
       "        -1.3447721 ,  -9.422401  , -15.712835  ,   2.2839432 ,\n",
       "        -6.627627  ,   4.2400656 ,  -2.991418  ,  -3.335907  ,\n",
       "         1.600982  , -12.664298  ,  -4.898324  ,   3.055382  ,\n",
       "        -4.651914  ,  -1.6952838 ,  -5.4173822 ,   2.7934155 ,\n",
       "       -14.7867985 ,   1.415322  ,  -5.5388474 ,  -6.1098037 ,\n",
       "        -5.7914658 ,  -6.3469734 ,  13.742338  ,  -1.6496979 ,\n",
       "         3.3199997 ,   2.7410784 ,   2.7774887 ,  -3.477851  ,\n",
       "        -0.14029318,   5.5511184 ,  10.695179  ,   0.2049188 ,\n",
       "       -10.244563  ,   5.880712  ,   4.205871  ,   4.5241876 ,\n",
       "        -6.292862  ,   6.8235135 ,  -1.7657965 ,  -3.661663  ,\n",
       "        -3.7144785 ,   7.3088856 ,  -2.3594024 ,  -7.857426  ,\n",
       "        -6.886633  ,   1.7568933 ,  -4.815194  ,   6.379222  ,\n",
       "         4.940901  ,   7.649937  ,  12.87914   ,  -4.5840774 ,\n",
       "        15.380775  ,   4.797632  ,   5.2935553 ,   8.738661  ,\n",
       "        -1.5440937 ,  -3.367603  ,   7.639555  , -11.059009  ,\n",
       "        -3.0748894 ,   5.624604  ,   6.126647  ,   5.3097796 ,\n",
       "        -3.8142414 ,  12.761269  ,  -0.27259636,  -6.2118707 ,\n",
       "         0.28687108, -14.829384  ,   7.583456  ,   8.003553  ,\n",
       "         4.578726  ,   6.3191285 ,   7.3731995 ,  -4.594698  ,\n",
       "        13.181527  , -15.931529  ,   1.0720475 ,  -3.993234  ,\n",
       "         3.5945926 ,   7.0732527 ,  -4.950095  ,   2.280667  ,\n",
       "         8.380159  ,   6.312452  ,   6.397865  ,  11.706679  ,\n",
       "        -5.9663568 ,   8.864236  ,  12.8745    ,  10.990566  ,\n",
       "        10.446113  ,   9.829554  ,  -7.896261  ], dtype=float32)"
      ]
     },
     "execution_count": 24,
     "metadata": {},
     "output_type": "execute_result"
    }
   ],
   "source": [
    "dec[0]"
   ]
  },
  {
   "cell_type": "code",
   "execution_count": 25,
   "metadata": {},
   "outputs": [
    {
     "data": {
      "text/plain": [
       "(167,)"
      ]
     },
     "execution_count": 25,
     "metadata": {},
     "output_type": "execute_result"
    }
   ],
   "source": [
    "dec[0].shape"
   ]
  }
 ],
 "metadata": {
  "kernelspec": {
   "display_name": "Python 3",
   "language": "python",
   "name": "python3"
  },
  "language_info": {
   "codemirror_mode": {
    "name": "ipython",
    "version": 3
   },
   "file_extension": ".py",
   "mimetype": "text/x-python",
   "name": "python",
   "nbconvert_exporter": "python",
   "pygments_lexer": "ipython3",
   "version": "3.6.5"
  }
 },
 "nbformat": 4,
 "nbformat_minor": 2
}

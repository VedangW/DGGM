{
 "cells": [
  {
   "cell_type": "markdown",
   "metadata": {},
   "source": [
    "**Preprocessing of the PubChem Database of Substances**\n",
    "\n",
    "The downloaded dataset comprises of a sequence of SMILES strings and some empty strings which are to be converted to MACCS fingerprints for the dataset."
   ]
  },
  {
   "cell_type": "code",
   "execution_count": 1,
   "metadata": {},
   "outputs": [],
   "source": [
    "import os\n",
    "\n",
    "from tqdm import tqdm\n",
    "from rdkit import Chem\n",
    "from rdkit.Chem import MACCSkeys"
   ]
  },
  {
   "cell_type": "code",
   "execution_count": 2,
   "metadata": {},
   "outputs": [],
   "source": [
    "def retrieve_smiles(l):\n",
    "    \"\"\" Retrieves the smiles representation from a line in file \"\"\"\n",
    "    \n",
    "    l = str(l)\n",
    "    l = l.split(\"\\\\t\")\n",
    "    return [l[0].split(\"'\")[1], l[1].split(\"\\\\n\")[0]]"
   ]
  },
  {
   "cell_type": "code",
   "execution_count": 3,
   "metadata": {},
   "outputs": [],
   "source": [
    "def get_smiles_from_file(f):\n",
    "    \"\"\" Gets SMILES from a file 'f' \"\"\"\n",
    "\n",
    "    lines = f.readlines()\n",
    "\n",
    "    # Create SMILES list\n",
    "    smiles = []\n",
    "    for i in range(len(lines)):\n",
    "        smiles.append(retrieve_smiles(lines[i]))\n",
    "\n",
    "    # Remove all empty strings\n",
    "    smiles = list(filter(None, [smiles[i][1] for i in range(len(smiles))]))\n",
    "    \n",
    "    return smiles"
   ]
  },
  {
   "cell_type": "code",
   "execution_count": 4,
   "metadata": {},
   "outputs": [
    {
     "name": "stdout",
     "output_type": "stream",
     "text": [
      "Reading 1.5m-2.0m.txt...\n",
      "Reading 3.5m-4.0m.txt...\n",
      "Reading 3.0m-3.5m.txt...\n"
     ]
    },
    {
     "data": {
      "text/plain": [
       "696409"
      ]
     },
     "execution_count": 4,
     "metadata": {},
     "output_type": "execute_result"
    }
   ],
   "source": [
    "smiles = []\n",
    "for fname in os.listdir('data'):\n",
    "    print (\"Reading \" + fname + \"...\")\n",
    "    f = open('data/' + fname, 'rb')\n",
    "    smiles += get_smiles_from_file(f)\n",
    "    f.close()\n",
    "\n",
    "len(smiles)"
   ]
  },
  {
   "cell_type": "code",
   "execution_count": 5,
   "metadata": {},
   "outputs": [
    {
     "name": "stderr",
     "output_type": "stream",
     "text": [
      "100%|██████████| 696409/696409 [21:34<00:00, 537.77it/s]\n"
     ]
    }
   ],
   "source": [
    "# Convert all SMILES to MACCS Keys\n",
    "maccs = []\n",
    "for i in tqdm(range(len(smiles))):\n",
    "    # Convert SMILES to Molecule object\n",
    "    molecule = Chem.MolFromSmiles(smiles[i])\n",
    "    try:\n",
    "        # Get MACCS Key from Molecule object\n",
    "        maccs_key = MACCSkeys.GenMACCSKeys(molecule)\n",
    "        maccs.append(maccs_key)\n",
    "    except:\n",
    "        continue"
   ]
  },
  {
   "cell_type": "code",
   "execution_count": 6,
   "metadata": {},
   "outputs": [
    {
     "name": "stderr",
     "output_type": "stream",
     "text": [
      "100%|██████████| 696403/696403 [00:01<00:00, 434247.70it/s]\n"
     ]
    }
   ],
   "source": [
    "for i in tqdm(range(len(maccs))):\n",
    "    maccs[i] = maccs[i].ToBitString()"
   ]
  },
  {
   "cell_type": "code",
   "execution_count": 7,
   "metadata": {},
   "outputs": [
    {
     "name": "stdout",
     "output_type": "stream",
     "text": [
      "00000000000000000000000000000000000010000100000100000000000000000000000000010001110101001101100110000100010000100001111011100101110001011100001111111111001010111111110\n",
      "Number of features = 167\n"
     ]
    }
   ],
   "source": [
    "print (maccs[0])\n",
    "print (\"Number of features =\", len(maccs[0]))\n",
    "\n",
    "# Check if size of all fingerprints is 167\n",
    "count = 0\n",
    "for fp in maccs:\n",
    "    if len(fp) != 167:\n",
    "        count += 1\n",
    "        \n",
    "assert count == 0"
   ]
  },
  {
   "cell_type": "code",
   "execution_count": 11,
   "metadata": {},
   "outputs": [
    {
     "name": "stderr",
     "output_type": "stream",
     "text": [
      "100%|██████████| 557122/557122 [00:00<00:00, 662560.91it/s]\n",
      "100%|██████████| 139281/139281 [00:00<00:00, 654416.92it/s]\n"
     ]
    }
   ],
   "source": [
    "# Save as a txt file\n",
    "train_set = maccs[0: int(len(maccs)*0.8)]\n",
    "test_set = maccs[int(len(maccs)*0.8): int(len(maccs))]\n",
    "\n",
    "train = open('train_aae_10m', 'w')\n",
    "test = open('test_aae_10m', 'w')\n",
    "\n",
    "for i in tqdm(range(len(train_set))):\n",
    "    train.write(str(i) + '\\t' + train_set[i] + '\\n')\n",
    "    \n",
    "for i in tqdm(range(len(test_set))):\n",
    "    test.write(str(i) + '\\t' + test_set[i] + '\\n')\n",
    "    \n",
    "train.close()\n",
    "test.close()"
   ]
  },
  {
   "cell_type": "code",
   "execution_count": 13,
   "metadata": {},
   "outputs": [
    {
     "name": "stdout",
     "output_type": "stream",
     "text": [
      "Number of training samples =  557122\n",
      "Number of testing samples =  139281\n"
     ]
    }
   ],
   "source": [
    "train = open('train_aae_10m')\n",
    "test = open('test_aae_10m')\n",
    "\n",
    "print (\"Number of training samples = \", len(train.readlines()))\n",
    "print (\"Number of testing samples = \", len(test.readlines()))\n",
    "\n",
    "train.close()\n",
    "test.close()"
   ]
  }
 ],
 "metadata": {
  "kernelspec": {
   "display_name": "Python 3",
   "language": "python",
   "name": "python3"
  },
  "language_info": {
   "codemirror_mode": {
    "name": "ipython",
    "version": 3
   },
   "file_extension": ".py",
   "mimetype": "text/x-python",
   "name": "python",
   "nbconvert_exporter": "python",
   "pygments_lexer": "ipython3",
   "version": "3.6.5"
  }
 },
 "nbformat": 4,
 "nbformat_minor": 2
}

{
 "cells": [
  {
   "cell_type": "markdown",
   "metadata": {},
   "source": [
    "A working implementation of the AAE in Tensorflow as in the old GitHub repository."
   ]
  },
  {
   "cell_type": "code",
   "execution_count": 1,
   "metadata": {},
   "outputs": [
    {
     "name": "stderr",
     "output_type": "stream",
     "text": [
      "/home/vedang/anaconda3/lib/python3.6/site-packages/h5py/__init__.py:36: FutureWarning: Conversion of the second argument of issubdtype from `float` to `np.floating` is deprecated. In future, it will be treated as `np.float64 == np.dtype(float).type`.\n",
      "  from ._conv import register_converters as _register_converters\n"
     ]
    }
   ],
   "source": [
    "import numpy as np\n",
    "import tensorflow as tf\n",
    "from tqdm import tqdm"
   ]
  },
  {
   "cell_type": "code",
   "execution_count": 2,
   "metadata": {},
   "outputs": [],
   "source": [
    "# Load the train and test files\n",
    "\n",
    "train = 'train_aae.txt'\n",
    "test = 'test_aae.txt'"
   ]
  },
  {
   "cell_type": "markdown",
   "metadata": {},
   "source": [
    "```batch_gen``` generates the batches and randomly shuffles them and ```buffered_gen``` generates the buffer and uses it to store the batches."
   ]
  },
  {
   "cell_type": "code",
   "execution_count": 3,
   "metadata": {},
   "outputs": [],
   "source": [
    "def batch_gen(data, batch_n):\n",
    "    \"\"\"\n",
    "    Given the data, returns the batches using random shuffling.\n",
    "    \n",
    "    Parameters\n",
    "    ----------\n",
    "    data: np.array\n",
    "        Consists of all the instances set into a numpy array\n",
    "    batch_n: int\n",
    "        Size of each batch\n",
    "        \n",
    "    Returns\n",
    "    -------\n",
    "    data: Generator object\n",
    "        A generator object with all the batches in it.\n",
    "    \n",
    "    \"\"\"\n",
    "    # Create a list of indices for the data,\n",
    "    # which is of the same size as the data.\n",
    "    # For eg,\n",
    "    #     If data is of size 1000,\n",
    "    #     inds = [0, 1, ..., 999]\n",
    "    inds = list(range(data.shape[0]))\n",
    "    \n",
    "    # Randomly shuffle the indices.\n",
    "    # For eg,\n",
    "    #     inds = [650, 720, ..., 2]\n",
    "    np.random.shuffle(inds)\n",
    "    \n",
    "    # Generate size of data / batch size\n",
    "    # number of batches.\n",
    "    # For eg,\n",
    "    #     If data is of size 1000 and \n",
    "    #     batch_n = 50, then i will be\n",
    "    #     in range 0, 19\n",
    "    for i in range(int(data.shape[0] / batch_n)):\n",
    "        \n",
    "        # Split inds according to the batches\n",
    "        # created by i\n",
    "        ii = inds[i*batch_n:(i+1)*batch_n]\n",
    "        \n",
    "        # Return a generator with each index\n",
    "        # in ii matching that tuple from data.\n",
    "        # For eg,\n",
    "        #     If data = [[0, 1], [1, 2], ..., [999, 1000]]\n",
    "        #     and ii = [50, 55, 1] (and batch_n = 3)\n",
    "        #     then return [[50, 51], [55, 56], [1, 2]]\n",
    "        yield data[ii, :]"
   ]
  },
  {
   "cell_type": "code",
   "execution_count": 4,
   "metadata": {},
   "outputs": [],
   "source": [
    "def buffered_gen(f, batch_n=1024, buffer_size=2000):\n",
    "    \"\"\"\n",
    "    Creates the batches by reading a file 'f', where the\n",
    "    data is stored. \n",
    "    \n",
    "    The data is stored in a buffer.\n",
    "    \n",
    "    Parameters\n",
    "    ----------\n",
    "    \n",
    "    f: str\n",
    "        String containing address of file\n",
    "        \n",
    "    batch_n: int\n",
    "        Size of each batch\n",
    "        \n",
    "    buffer_size: int\n",
    "        Size of the buffer. Denotes total number\n",
    "        of batches which can be possibly stored in\n",
    "        the buffer.\n",
    "        \n",
    "    Returns\n",
    "    -------\n",
    "    A generator object with all the batches in it. \n",
    "    \n",
    "    \"\"\"\n",
    "    \n",
    "    # Open file f\n",
    "    inp = open(f)\n",
    "    \n",
    "    # Create new data list\n",
    "    data = []\n",
    "    \n",
    "    # i = index of line, line is the line read\n",
    "    for i, line in enumerate(inp):\n",
    "        \n",
    "        # For each line,\n",
    "        # the line is first stripped, and the split according to tabs\n",
    "        # the first element is read into an array and each input of it\n",
    "        # is converted to a float. This is then appended to data.\n",
    "        data.append(np.array(list(map(float, line.strip().split('\\t')[1]))))\n",
    "        \n",
    "        # If size of buffer is finished, that is the buffer can store\n",
    "        # data only uptill the number of instances = buffer_size * batch_n\n",
    "        # and if the next instance fills up the buffer, then...\n",
    "        if (i+1) % (buffer_size * batch_n) == 0:\n",
    "            \n",
    "            # Generate batches for whatever has been stored in data so far\n",
    "            bgen = batch_gen(np.vstack(data), batch_n)\n",
    "            \n",
    "            # Yield the batches\n",
    "            for batch in bgen:\n",
    "                yield batch\n",
    "            \n",
    "            # Empty data\n",
    "            data = []\n",
    "            \n",
    "    else:\n",
    "        # Generate batches while leaving out the last element of data\n",
    "        bgen = batch_gen(np.vstack(data[:-1]), batch_n)\n",
    "\n",
    "        # Yield the batches\n",
    "        for batch in bgen:\n",
    "            yield batch"
   ]
  },
  {
   "cell_type": "markdown",
   "metadata": {},
   "source": [
    "To load the data from the test samples."
   ]
  },
  {
   "cell_type": "code",
   "execution_count": 5,
   "metadata": {},
   "outputs": [],
   "source": [
    "def load_test():\n",
    "    with open(test) as inp:\n",
    "        data = [np.array(list(map(float, line.strip().split('\\t')[1]))) for line in inp]\n",
    "    return np.vstack(data)"
   ]
  },
  {
   "cell_type": "markdown",
   "metadata": {},
   "source": [
    "Utility functions for AAE"
   ]
  },
  {
   "cell_type": "code",
   "execution_count": 6,
   "metadata": {},
   "outputs": [],
   "source": [
    "def he_initializer(size):\n",
    "    return tf.random_normal_initializer(mean=0.0, stddev=np.sqrt(1. / size), seed=None, dtype=tf.float32)"
   ]
  },
  {
   "cell_type": "code",
   "execution_count": 7,
   "metadata": {},
   "outputs": [],
   "source": [
    "def linear_layer(tensor, input_size, out_size, init_fn=he_initializer,):\n",
    "    W = tf.get_variable('W', shape=[input_size, out_size], initializer=init_fn(input_size))\n",
    "    b = tf.get_variable('b', shape=[out_size], initializer=tf.constant_initializer(0.1))\n",
    "    return tf.add(tf.matmul(tensor, W), b)"
   ]
  },
  {
   "cell_type": "code",
   "execution_count": 8,
   "metadata": {},
   "outputs": [],
   "source": [
    "def bn_layer(tensor, size, epsilon=0.0001):\n",
    "    batch_mean, batch_var = tf.nn.moments(tensor, [0])\n",
    "    scale = tf.get_variable('scale', shape=[size], initializer=tf.constant_initializer(1.))\n",
    "    beta = tf.get_variable('beta', shape=[size], initializer=tf.constant_initializer(0.))\n",
    "    return tf.nn.batch_normalization(tensor, batch_mean, batch_var, beta, scale, epsilon)"
   ]
  },
  {
   "cell_type": "code",
   "execution_count": 9,
   "metadata": {},
   "outputs": [],
   "source": [
    "def sample_prior(loc=0., scale=1., size=(64, 10)):\n",
    "    return np.random.normal(loc=loc, scale=scale, size=size)"
   ]
  },
  {
   "cell_type": "markdown",
   "metadata": {},
   "source": [
    "Actual implementation of the AAE"
   ]
  },
  {
   "cell_type": "code",
   "execution_count": 10,
   "metadata": {},
   "outputs": [],
   "source": [
    "class AAE(object):\n",
    "    def __init__(self,\n",
    "                 gpu_config=None,\n",
    "                 batch_size=1024, \n",
    "                 input_space=167,\n",
    "                 latent_space=20,\n",
    "                 middle_layers=None,\n",
    "                 activation_fn=tf.nn.tanh,\n",
    "                 learning_rate=0.001,\n",
    "                 initializer=he_initializer):\n",
    "\n",
    "        self.batch_size = batch_size\n",
    "        self.input_space = input_space\n",
    "        self.latent_space = latent_space\n",
    "        if middle_layers is None:\n",
    "            self.middle_layers = [256, 256]\n",
    "        else:\n",
    "            self.middle_layers = middle_layers\n",
    "        self.activation_fn = activation_fn\n",
    "        self.learning_rate = learning_rate\n",
    "\n",
    "        self.initializer = initializer\n",
    "\n",
    "        tf.reset_default_graph()\n",
    "        \n",
    "        self.input_x = tf.placeholder(tf.float32, [None, input_space])\n",
    "        self.z_tensor = tf.placeholder(tf.float32, [None, latent_space])\n",
    "\n",
    "        # Encoder net: 152->256->256->10\n",
    "        with tf.variable_scope(\"encoder\"):\n",
    "            self.encoder_layers = self.encoder()\n",
    "            self.encoded = self.encoder_layers[-1]\n",
    "        \n",
    "        # Decoder net: 10->256->256->152\n",
    "        with tf.variable_scope(\"decoder\"):\n",
    "            self.decoder_layers = self.decoder(self.encoded)\n",
    "            self.decoded = self.decoder_layers[-1]\n",
    "            tf.get_variable_scope().reuse_variables()\n",
    "            self.generator_layers = self.decoder(self.z_tensor)\n",
    "            self.generated = tf.nn.sigmoid(self.generator_layers[-1])\n",
    "\n",
    "        # Discriminator net: 10->64->64->8->1\n",
    "        sizes = [64, 64, 8, 1]\n",
    "        with tf.variable_scope(\"discriminator\"):\n",
    "            self.disc_layers_neg = self.discriminator(self.encoded, sizes)\n",
    "            self.disc_neg = self.disc_layers_neg[-1]\n",
    "            tf.get_variable_scope().reuse_variables()\n",
    "            self.disc_layers_pos = self.discriminator(self.z_tensor, sizes)\n",
    "            self.disc_pos = self.disc_layers_pos[-1]\n",
    "\n",
    "        self.pos_loss = tf.nn.relu(self.disc_pos) - self.disc_pos + tf.log(1.0 + tf.exp(-tf.abs(self.disc_pos)))\n",
    "        self.neg_loss = tf.nn.relu(self.disc_neg) + tf.log(1.0 + tf.exp(-tf.abs(self.disc_neg)))\n",
    "        self.disc_loss = tf.reduce_mean(tf.add(self.pos_loss, self.neg_loss))\n",
    "        \n",
    "        tf.summary.scalar(\"discriminator_loss\", self.disc_loss)\n",
    "            \n",
    "        self.enc_loss = tf.reduce_mean(tf.nn.relu(self.disc_neg) - self.disc_neg + tf.log(1.0 + tf.exp(-tf.abs(self.disc_neg))))\n",
    "        batch_logloss = tf.reduce_sum(tf.nn.sigmoid_cross_entropy_with_logits(logits=self.decoded, labels=self.input_x), 1)\n",
    "        self.dec_loss = tf.reduce_mean(batch_logloss)\n",
    "        \n",
    "        tf.summary.scalar(\"encoder_loss\", self.enc_loss)\n",
    "        tf.summary.scalar(\"decoder_loss\", self.dec_loss)\n",
    "        \n",
    "        disc_ws = tf.get_collection(tf.GraphKeys.GLOBAL_VARIABLES, scope='discriminator')\n",
    "        enc_ws = tf.get_collection(tf.GraphKeys.GLOBAL_VARIABLES, scope='encoder')\n",
    "        ae_ws = tf.get_collection(tf.GraphKeys.GLOBAL_VARIABLES, scope='encoder') + \\\n",
    "                tf.get_collection(tf.GraphKeys.GLOBAL_VARIABLES, scope='decoder')\n",
    "            \n",
    "        self.train_discriminator = tf.train.AdamOptimizer(self.learning_rate).minimize(self.disc_loss, var_list=disc_ws)\n",
    "        self.train_encoder = tf.train.AdamOptimizer(self.learning_rate).minimize(self.enc_loss, var_list=enc_ws)\n",
    "        self.train_autoencoder = tf.train.AdamOptimizer(self.learning_rate).minimize(self.dec_loss, var_list=ae_ws)\n",
    "\n",
    "        if gpu_config is None:\n",
    "            gpu_config = tf.ConfigProto()\n",
    "            gpu_config.gpu_options.per_process_gpu_memory_fraction = 0.4\n",
    "        \n",
    "        self.sess = tf.Session(config=gpu_config)\n",
    "        self.init_net()\n",
    "        \n",
    "    def encoder(self):\n",
    "        sizes = self.middle_layers + [self.latent_space]\n",
    "        with tf.variable_scope(\"layer-0\"):\n",
    "            encoder_layers = [linear_layer(self.input_x, self.input_space, sizes[0])]\n",
    "        for i in range(len(sizes) - 1):\n",
    "            with tf.variable_scope(\"layer-%i\" % (i+1)):\n",
    "                activated = self.activation_fn(encoder_layers[-1])\n",
    "#                 normed = bn_layer(activated, sizes[i])\n",
    "                next_layer = linear_layer(activated, sizes[i], sizes[i+1])\n",
    "            encoder_layers.append(next_layer)\n",
    "            \n",
    "        return encoder_layers\n",
    "\n",
    "    def decoder(self, tensor):\n",
    "        sizes = self.middle_layers[::-1] + [self.input_space]\n",
    "        with tf.variable_scope(\"layer-0\"):\n",
    "            decoder_layers = [linear_layer(tensor, self.latent_space, sizes[0])]\n",
    "        for i in range(len(sizes) - 1):\n",
    "            with tf.variable_scope(\"layer-%i\" % (i+1)):\n",
    "                activated = self.activation_fn(decoder_layers[-1])\n",
    "#                 normed = bn_layer(activated, sizes[i])\n",
    "                next_layer = linear_layer(activated, sizes[i], sizes[i+1])\n",
    "            decoder_layers.append(next_layer)\n",
    "        \n",
    "        return decoder_layers\n",
    "    \n",
    "    def discriminator(self, tensor, sizes):\n",
    "        with tf.variable_scope(\"layer-0\"):\n",
    "            disc_layers = [linear_layer(tensor, self.latent_space, sizes[0])]\n",
    "        for i in range(len(sizes) - 1):\n",
    "            with tf.variable_scope(\"layer-%i\" % (i+1)):\n",
    "                activated = tf.nn.tanh(disc_layers[-1])\n",
    "#                 normed = bn_layer(activated, sizes[i])\n",
    "                next_layer = linear_layer(activated, sizes[i], sizes[i+1])\n",
    "            disc_layers.append(next_layer)\n",
    "\n",
    "        return disc_layers\n",
    "    \n",
    "    def init_net(self):\n",
    "        init = tf.global_variables_initializer()\n",
    "        self.sess.run(init)        \n",
    "    \n",
    "    def train(self, log):\n",
    "        sess = self.sess\n",
    "        saver = tf.train.Saver()\n",
    "        hist = []\n",
    "        test_data = load_test()\n",
    "        \n",
    "        merged_summary = tf.summary.merge_all()\n",
    "        train_writer = tf.summary.FileWriter('/tmp/aae/1')\n",
    "        train_writer.add_graph(sess.graph)\n",
    "        \n",
    "        for e in tqdm(range(5)):\n",
    "            print (log, \"epoch #%d\" % (e+1))\n",
    "            log.flush()\n",
    "            train_gen = buffered_gen(train, batch_n=self.batch_size)\n",
    "            for i, batch_x in enumerate(train_gen):\n",
    "                if i%3 == 0:\n",
    "                    batch_z = sample_prior(scale=1.0, size=(len(batch_x), self.latent_space))\n",
    "                    sess.run(self.train_discriminator, feed_dict={self.input_x: batch_x, self.z_tensor: batch_z})\n",
    "                elif i%3 == 1:\n",
    "                    sess.run(self.train_encoder, feed_dict={self.input_x: batch_x})\n",
    "                else:\n",
    "                    sess.run(self.train_autoencoder, feed_dict={self.input_x: batch_x})\n",
    "                if i % 5 == 0:\n",
    "                    batch_z = sample_prior(scale=1.0, size=(len(test_data), self.latent_space))\n",
    "                    s = sess.run(merged_summary, feed_dict={self.input_x: test_data, self.z_tensor: batch_z})\n",
    "                    train_writer.add_summary(s, i)\n",
    "                if i%10000 == 0:\n",
    "                    batch_z = sample_prior(scale=1.0, size=(len(test_data), self.latent_space))\n",
    "                    \n",
    "                    losses = sess.run([self.disc_loss, self.enc_loss, self.dec_loss],\n",
    "                                      feed_dict={self.input_x: test_data, self.z_tensor: batch_z})\n",
    "                    discriminator_loss, encoder_loss, decoder_loss = losses\n",
    "                    print (log, \"disc: %f, encoder : %f, decoder : %f\" % (discriminator_loss/2., encoder_loss, decoder_loss))\n",
    "                    \n",
    "                    log.flush()\n",
    "            else:         \n",
    "                saver.save(sess, './fpt.aae.%de.model.ckpt' % e)\n",
    "                batch_z = sample_prior(scale=1.0, size=(len(test_data), self.latent_space))\n",
    "                losses = sess.run([self.disc_loss, self.enc_loss, self.dec_loss],\n",
    "                                  feed_dict={self.input_x: test_data, self.z_tensor: batch_z})\n",
    "\n",
    "\n",
    "                discriminator_loss, encoder_loss, decoder_loss = losses\n",
    "                print (log, \"disc: %f, encoder : %f, decoder : %f\" % (discriminator_loss/2., encoder_loss, decoder_loss))\n",
    "                \n",
    "#                 train_writer.add_summary(discriminator_loss, e)\n",
    "#                 train_writer.add_summary(encoder_loss, e)\n",
    "#                 train_writer.add_summary(decoder_loss, e)\n",
    "                    \n",
    "                log.flush()\n",
    "                hist.append(decoder_loss)\n",
    "        return hist\n",
    "    \n",
    "    def load(self, model):\n",
    "        saver = tf.train.Saver()\n",
    "        saver.restore(self.sess, model)"
   ]
  },
  {
   "cell_type": "code",
   "execution_count": 11,
   "metadata": {},
   "outputs": [],
   "source": [
    "aae = AAE(batch_size=1024)"
   ]
  },
  {
   "cell_type": "code",
   "execution_count": 50,
   "metadata": {},
   "outputs": [
    {
     "name": "stderr",
     "output_type": "stream",
     "text": [
      "\n",
      "\n",
      "\n",
      "\n",
      "\n",
      "\n",
      "\n",
      "\n",
      "\n",
      "  0%|          | 0/5 [00:00<?, ?it/s]\u001b[A\u001b[A\u001b[A\u001b[A\u001b[A\u001b[A\u001b[A\u001b[A\u001b[A"
     ]
    },
    {
     "name": "stdout",
     "output_type": "stream",
     "text": [
      "<_io.TextIOWrapper name='./fpt.aae.log' mode='w' encoding='UTF-8'> epoch #1\n",
      "<_io.TextIOWrapper name='./fpt.aae.log' mode='w' encoding='UTF-8'> disc: 0.602155, encoder : 0.872956, decoder : 120.400757\n"
     ]
    },
    {
     "name": "stderr",
     "output_type": "stream",
     "text": [
      "\n",
      "\n",
      "\n",
      "\n",
      "\n",
      "\n",
      "\n",
      "\n",
      "\n",
      " 20%|██        | 1/5 [00:55<03:40, 55.16s/it]\u001b[A\u001b[A\u001b[A\u001b[A\u001b[A\u001b[A\u001b[A\u001b[A\u001b[A"
     ]
    },
    {
     "name": "stdout",
     "output_type": "stream",
     "text": [
      "<_io.TextIOWrapper name='./fpt.aae.log' mode='w' encoding='UTF-8'> disc: 0.585175, encoder : 0.932309, decoder : 69.163857\n",
      "<_io.TextIOWrapper name='./fpt.aae.log' mode='w' encoding='UTF-8'> epoch #2\n",
      "<_io.TextIOWrapper name='./fpt.aae.log' mode='w' encoding='UTF-8'> disc: 0.532150, encoder : 1.079273, decoder : 69.163857\n"
     ]
    },
    {
     "name": "stderr",
     "output_type": "stream",
     "text": [
      "\n",
      "\n",
      "\n",
      "\n",
      "\n",
      "\n",
      "\n",
      "\n",
      "\n",
      " 40%|████      | 2/5 [01:52<02:48, 56.28s/it]\u001b[A\u001b[A\u001b[A\u001b[A\u001b[A\u001b[A\u001b[A\u001b[A\u001b[A"
     ]
    },
    {
     "name": "stdout",
     "output_type": "stream",
     "text": [
      "<_io.TextIOWrapper name='./fpt.aae.log' mode='w' encoding='UTF-8'> disc: 0.953123, encoder : 0.339327, decoder : 44.427685\n",
      "<_io.TextIOWrapper name='./fpt.aae.log' mode='w' encoding='UTF-8'> epoch #3\n",
      "<_io.TextIOWrapper name='./fpt.aae.log' mode='w' encoding='UTF-8'> disc: 0.919957, encoder : 0.370484, decoder : 44.427685\n"
     ]
    },
    {
     "name": "stderr",
     "output_type": "stream",
     "text": [
      "\n",
      "\n",
      "\n",
      "\n",
      "\n",
      "\n",
      "\n",
      "\n",
      "\n",
      " 60%|██████    | 3/5 [02:48<01:52, 56.02s/it]\u001b[A\u001b[A\u001b[A\u001b[A\u001b[A\u001b[A\u001b[A\u001b[A\u001b[A"
     ]
    },
    {
     "name": "stdout",
     "output_type": "stream",
     "text": [
      "<_io.TextIOWrapper name='./fpt.aae.log' mode='w' encoding='UTF-8'> disc: 0.606398, encoder : 0.752768, decoder : 33.347900\n",
      "<_io.TextIOWrapper name='./fpt.aae.log' mode='w' encoding='UTF-8'> epoch #4\n",
      "<_io.TextIOWrapper name='./fpt.aae.log' mode='w' encoding='UTF-8'> disc: 0.597260, encoder : 0.771278, decoder : 33.347900\n"
     ]
    },
    {
     "name": "stderr",
     "output_type": "stream",
     "text": [
      "\n",
      "\n",
      "\n",
      "\n",
      "\n",
      "\n",
      "\n",
      "\n",
      "\n",
      " 80%|████████  | 4/5 [03:44<00:56, 56.04s/it]\u001b[A\u001b[A\u001b[A\u001b[A\u001b[A\u001b[A\u001b[A\u001b[A\u001b[A"
     ]
    },
    {
     "name": "stdout",
     "output_type": "stream",
     "text": [
      "<_io.TextIOWrapper name='./fpt.aae.log' mode='w' encoding='UTF-8'> disc: 0.521288, encoder : 0.873691, decoder : 40.254864\n",
      "<_io.TextIOWrapper name='./fpt.aae.log' mode='w' encoding='UTF-8'> epoch #5\n",
      "<_io.TextIOWrapper name='./fpt.aae.log' mode='w' encoding='UTF-8'> disc: 0.512478, encoder : 0.895770, decoder : 40.254864\n"
     ]
    },
    {
     "name": "stderr",
     "output_type": "stream",
     "text": [
      "\n",
      "\n",
      "\n",
      "\n",
      "\n",
      "\n",
      "\n",
      "\n",
      "\n",
      "100%|██████████| 5/5 [04:39<00:00, 55.83s/it]\u001b[A\u001b[A\u001b[A\u001b[A\u001b[A\u001b[A\u001b[A\u001b[A\u001b[A\n",
      "\n",
      "\n",
      "\n",
      "\n",
      "\n",
      "\n",
      "\n",
      "\n",
      "\u001b[A\u001b[A\u001b[A\u001b[A\u001b[A\u001b[A\u001b[A\u001b[A\u001b[A"
     ]
    },
    {
     "name": "stdout",
     "output_type": "stream",
     "text": [
      "<_io.TextIOWrapper name='./fpt.aae.log' mode='w' encoding='UTF-8'> disc: 0.645612, encoder : 0.724117, decoder : 68.262413\n"
     ]
    }
   ],
   "source": [
    "with open('./fpt.aae.log', 'w') as log:\n",
    "     aae_0 = aae.train(log)"
   ]
  },
  {
   "cell_type": "markdown",
   "metadata": {},
   "source": [
    "Generation of new samples"
   ]
  },
  {
   "cell_type": "code",
   "execution_count": 12,
   "metadata": {},
   "outputs": [
    {
     "data": {
      "text/plain": [
       "(85399, 167)"
      ]
     },
     "execution_count": 12,
     "metadata": {},
     "output_type": "execute_result"
    }
   ],
   "source": [
    "test_data = load_test()\n",
    "test_data.shape"
   ]
  },
  {
   "cell_type": "code",
   "execution_count": null,
   "metadata": {},
   "outputs": [],
   "source": []
  },
  {
   "cell_type": "code",
   "execution_count": 13,
   "metadata": {},
   "outputs": [],
   "source": [
    "test_gen = buffered_gen(test, batch_n=aae.batch_size)"
   ]
  },
  {
   "cell_type": "code",
   "execution_count": 14,
   "metadata": {},
   "outputs": [],
   "source": [
    "batch_x = test_gen.__next__()"
   ]
  },
  {
   "cell_type": "code",
   "execution_count": 15,
   "metadata": {},
   "outputs": [
    {
     "data": {
      "text/plain": [
       "array([0., 0., 0., 0., 0., 0., 0., 0., 0., 0., 0., 0., 0., 0., 0., 0., 0.,\n",
       "       0., 0., 0., 0., 0., 0., 0., 0., 0., 0., 0., 0., 0., 0., 0., 0., 0.,\n",
       "       0., 0., 0., 0., 0., 0., 0., 0., 0., 0., 0., 0., 0., 0., 0., 0., 0.,\n",
       "       0., 0., 1., 0., 0., 0., 0., 0., 0., 0., 0., 0., 0., 0., 0., 1., 0.,\n",
       "       0., 0., 0., 0., 0., 0., 1., 0., 0., 0., 0., 0., 0., 0., 1., 0., 0.,\n",
       "       0., 0., 0., 0., 1., 1., 1., 0., 0., 0., 0., 0., 0., 0., 0., 0., 1.,\n",
       "       0., 0., 0., 1., 0., 0., 1., 1., 0., 0., 1., 1., 0., 1., 1., 0., 1.,\n",
       "       0., 0., 0., 0., 0., 0., 0., 0., 1., 1., 1., 0., 1., 0., 0., 0., 0.,\n",
       "       0., 0., 0., 1., 0., 1., 0., 1., 1., 1., 0., 1., 0., 1., 1., 0., 1.,\n",
       "       1., 0., 1., 0., 1., 0., 1., 1., 0., 1., 1., 1., 1., 0.])"
      ]
     },
     "execution_count": 15,
     "metadata": {},
     "output_type": "execute_result"
    }
   ],
   "source": [
    "batch_x[0]"
   ]
  },
  {
   "cell_type": "code",
   "execution_count": 16,
   "metadata": {},
   "outputs": [],
   "source": [
    "enc = aae.sess.run(aae.encoded, feed_dict={aae.input_x: test_data})"
   ]
  },
  {
   "cell_type": "code",
   "execution_count": 17,
   "metadata": {},
   "outputs": [
    {
     "data": {
      "text/plain": [
       "(85399, 20)"
      ]
     },
     "execution_count": 17,
     "metadata": {},
     "output_type": "execute_result"
    }
   ],
   "source": [
    "enc.shape"
   ]
  },
  {
   "cell_type": "code",
   "execution_count": 18,
   "metadata": {},
   "outputs": [],
   "source": [
    "dec = aae.sess.run(aae.decoded, feed_dict={aae.input_x: batch_x})"
   ]
  },
  {
   "cell_type": "code",
   "execution_count": 19,
   "metadata": {},
   "outputs": [
    {
     "data": {
      "text/plain": [
       "(1024, 167)"
      ]
     },
     "execution_count": 19,
     "metadata": {},
     "output_type": "execute_result"
    }
   ],
   "source": [
    "dec.shape"
   ]
  },
  {
   "cell_type": "code",
   "execution_count": 20,
   "metadata": {},
   "outputs": [
    {
     "data": {
      "text/plain": [
       "array([ 0.17047006, -0.19883084,  0.17407265, -0.3687815 ,  0.02540869,\n",
       "        0.38048127, -0.20730829,  0.09922758,  0.43182603, -0.17057097,\n",
       "        0.65979177,  0.8037275 , -0.0807038 ,  0.06665824,  0.14822656,\n",
       "        0.37152627,  0.39126405,  0.24282196,  0.1935219 ,  0.08809058,\n",
       "        0.35583788,  0.68243724,  0.2932103 ,  0.07284887, -0.19791049,\n",
       "        0.24821788,  0.37764755,  0.35415205,  0.29277718, -0.08697366,\n",
       "        0.00114182,  0.15445495,  0.06342378,  0.22205102,  0.19455141,\n",
       "        0.37730578, -0.18001762,  0.205976  , -0.30806348, -0.22883984,\n",
       "       -0.07826977,  0.48726115, -0.29834536,  0.26742435,  0.49439168,\n",
       "       -0.06563864, -0.02517366, -0.09198508,  0.5231513 ,  0.01170353,\n",
       "       -0.15058616, -0.16033468, -0.12080074,  0.061635  ,  0.3786889 ,\n",
       "       -0.1954099 ,  0.3839689 ,  0.09001451, -0.31287405,  0.03623562,\n",
       "        0.53186494, -0.56573623, -0.00132113,  0.11859377,  0.04488439,\n",
       "       -0.1174401 ,  0.26931682,  0.09929323,  0.21809551,  0.18273601,\n",
       "       -0.36812016, -0.10052837,  0.39447686,  0.23392087,  0.13091426,\n",
       "        0.6695788 ,  0.17857528, -0.12931082,  0.5673286 , -0.18910062,\n",
       "        0.24152315, -0.19411474,  0.15438071,  0.3610472 ,  0.33669984,\n",
       "        0.5068536 , -0.00530923,  0.01159358, -0.22695404,  0.43976128,\n",
       "        0.3310715 ,  0.17355374, -0.0680967 , -0.01983248,  0.20414309,\n",
       "        0.53879607,  0.4524313 ,  0.24464661, -0.11424331,  0.06923088,\n",
       "       -0.26522923,  0.5365725 ,  0.06998895,  0.1411574 ,  0.16144453,\n",
       "        0.5036504 ,  0.26320237,  0.2642368 ,  0.25381747,  0.5214738 ,\n",
       "        0.2056527 , -0.36990568, -0.15950465, -0.07567217, -0.11626936,\n",
       "        0.10115514,  0.45766184, -0.12630567, -0.03031262,  0.34600085,\n",
       "        0.26334247,  0.40386134, -0.04808406,  0.17415452, -0.21106225,\n",
       "        0.12186278,  0.3272705 ,  0.3447846 ,  0.26407924,  0.6972883 ,\n",
       "        0.5346682 ,  0.21464993,  0.60191053, -0.02971236, -0.08145473,\n",
       "        0.23709974, -0.10706096,  0.4617784 ,  0.22824696, -0.10355125,\n",
       "       -0.06159713, -0.13366652,  0.30243716, -0.09841879,  0.12912132,\n",
       "        0.1522727 ,  0.4624841 , -0.05205088, -0.13154969,  0.07135816,\n",
       "       -0.2284973 ,  0.01170665,  0.4135643 ,  0.50318605, -0.15732   ,\n",
       "        0.12982851,  0.081676  ,  0.18389648,  0.27998945,  0.24973264,\n",
       "       -0.37203142, -0.01420577,  0.20369056, -0.09309017,  0.24750218,\n",
       "        0.49737278,  0.2622272 ], dtype=float32)"
      ]
     },
     "execution_count": 20,
     "metadata": {},
     "output_type": "execute_result"
    }
   ],
   "source": [
    "dec[0]"
   ]
  },
  {
   "cell_type": "code",
   "execution_count": 22,
   "metadata": {},
   "outputs": [],
   "source": [
    "samp = dec[0]"
   ]
  },
  {
   "cell_type": "code",
   "execution_count": 23,
   "metadata": {},
   "outputs": [
    {
     "data": {
      "text/plain": [
       "0.116636686"
      ]
     },
     "execution_count": 23,
     "metadata": {},
     "output_type": "execute_result"
    }
   ],
   "source": [
    "np.mean(samp)"
   ]
  },
  {
   "cell_type": "code",
   "execution_count": 27,
   "metadata": {},
   "outputs": [],
   "source": [
    "count = 0\n",
    "for a in samp:\n",
    "    if a <= -0.25 or (a >= 0.25 and a <= 0.75) or a >= 1.25:\n",
    "        count += 1"
   ]
  },
  {
   "cell_type": "code",
   "execution_count": 29,
   "metadata": {},
   "outputs": [
    {
     "data": {
      "text/plain": [
       "107"
      ]
     },
     "execution_count": 29,
     "metadata": {},
     "output_type": "execute_result"
    }
   ],
   "source": [
    "count"
   ]
  },
  {
   "cell_type": "code",
   "execution_count": 40,
   "metadata": {},
   "outputs": [],
   "source": [
    "total = 0\n",
    "for a in aae.sess.run(tf.trainable_variables()):\n",
    "    total += np.size(a)"
   ]
  },
  {
   "cell_type": "code",
   "execution_count": 41,
   "metadata": {},
   "outputs": [
    {
     "data": {
      "text/plain": [
       "234060"
      ]
     },
     "execution_count": 41,
     "metadata": {},
     "output_type": "execute_result"
    }
   ],
   "source": [
    "total"
   ]
  },
  {
   "cell_type": "code",
   "execution_count": 22,
   "metadata": {},
   "outputs": [
    {
     "ename": "NameError",
     "evalue": "name 'total' is not defined",
     "output_type": "error",
     "traceback": [
      "\u001b[0;31m---------------------------------------------------------------------------\u001b[0m",
      "\u001b[0;31mNameError\u001b[0m                                 Traceback (most recent call last)",
      "\u001b[0;32m<ipython-input-22-381a6fe07b71>\u001b[0m in \u001b[0;36m<module>\u001b[0;34m()\u001b[0m\n\u001b[0;32m----> 1\u001b[0;31m \u001b[0;32mfor\u001b[0m \u001b[0mvalue\u001b[0m \u001b[0;32min\u001b[0m \u001b[0mtotal\u001b[0m\u001b[0;34m:\u001b[0m\u001b[0;34m\u001b[0m\u001b[0m\n\u001b[0m\u001b[1;32m      2\u001b[0m     \u001b[0mprint\u001b[0m \u001b[0;34m(\u001b[0m\u001b[0mvalue\u001b[0m\u001b[0;34m)\u001b[0m\u001b[0;34m\u001b[0m\u001b[0m\n",
      "\u001b[0;31mNameError\u001b[0m: name 'total' is not defined"
     ]
    }
   ],
   "source": [
    "for value in :\n",
    "    print (value)"
   ]
  },
  {
   "cell_type": "code",
   "execution_count": null,
   "metadata": {},
   "outputs": [],
   "source": []
  }
 ],
 "metadata": {
  "kernelspec": {
   "display_name": "Python 3",
   "language": "python",
   "name": "python3"
  },
  "language_info": {
   "codemirror_mode": {
    "name": "ipython",
    "version": 3
   },
   "file_extension": ".py",
   "mimetype": "text/x-python",
   "name": "python",
   "nbconvert_exporter": "python",
   "pygments_lexer": "ipython3",
   "version": "3.6.5"
  }
 },
 "nbformat": 4,
 "nbformat_minor": 2
}

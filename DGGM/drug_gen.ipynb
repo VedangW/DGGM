{
 "cells": [
  {
   "cell_type": "markdown",
   "metadata": {
    "colab_type": "text",
    "id": "gTtd28rVGZuf"
   },
   "source": [
    "**Generation of Drug Fingerprints using Adversarial Autoencoder**"
   ]
  },
  {
   "cell_type": "markdown",
   "metadata": {
    "colab_type": "text",
    "id": "tdAT-2LTGq6W"
   },
   "source": [
    "Initialise packages and variables"
   ]
  },
  {
   "cell_type": "code",
   "execution_count": 0,
   "metadata": {
    "colab": {},
    "colab_type": "code",
    "id": "EXEEDdGjZiSy"
   },
   "outputs": [],
   "source": [
    "import subprocess\n",
    "import numpy as np\n",
    "import tensorflow as tf\n",
    "\n",
    "from tqdm import tqdm\n",
    "from google.colab import files"
   ]
  },
  {
   "cell_type": "code",
   "execution_count": 0,
   "metadata": {
    "colab": {},
    "colab_type": "code",
    "id": "s_3-aPMpaOEJ"
   },
   "outputs": [],
   "source": [
    "# All global variables and hyperparameters\n",
    "\n",
    "train = 'train_aae.txt'\n",
    "test = 'test_aae.txt'\n",
    "\n",
    "num_of_epochs = 100\n",
    "batch_size_for_model = 1024\n",
    "num_of_test_instances = 85399\n",
    "\n",
    "input_layer_size, latent_layer_size, output_layer_size = 167, 20, 167\n",
    "middle_layer_sizes = [256, 256]\n",
    "\n",
    "discriminator_sizes = [64, 64, 8, 1]\n",
    "\n",
    "logdir = 'tmp/aae/1/'"
   ]
  },
  {
   "cell_type": "markdown",
   "metadata": {
    "colab_type": "text",
    "id": "NvqaGIShGu8g"
   },
   "source": [
    "Data selection procedures"
   ]
  },
  {
   "cell_type": "code",
   "execution_count": 0,
   "metadata": {
    "colab": {},
    "colab_type": "code",
    "id": "f2NdrhUTbK6_"
   },
   "outputs": [],
   "source": [
    "# Data selection and processing\n",
    "\n",
    "def batch_gen(data, batch_n):\n",
    "    inds = list(range(data.shape[0]))\n",
    "    np.random.shuffle(inds)\n",
    "   \n",
    "    for i in range(int(data.shape[0] / batch_n)):\n",
    "        ii = inds[i*batch_n:(i+1)*batch_n]\n",
    "        yield data[ii, :]\n",
    "        \n",
    "def buffered_gen(f, batch_n=1024, buffer_size=2000):\n",
    "    inp = open(f)\n",
    "    data = []\n",
    "    \n",
    "    for i, line in enumerate(inp):\n",
    "        data.append(np.array(list(map(float, line.strip().split('\\t')[1]))))\n",
    "        \n",
    "        if (i+1) % (buffer_size * batch_n) == 0:\n",
    "            bgen = batch_gen(np.vstack(data), batch_n)\n",
    "            for batch in bgen:\n",
    "                yield batch\n",
    "            data = []\n",
    "            \n",
    "    else:\n",
    "        bgen = batch_gen(np.vstack(data[:-1]), batch_n)\n",
    "        \n",
    "        for batch in bgen:\n",
    "            yield batch\n",
    "            \n",
    "def load_test():\n",
    "    with open(test) as inp:\n",
    "        data = [np.array(list(map(float, line.strip().split('\\t')[1]))) for line in inp]\n",
    "    return np.vstack(data)"
   ]
  },
  {
   "cell_type": "markdown",
   "metadata": {
    "colab_type": "text",
    "id": "lB5S_KU5G28d"
   },
   "source": [
    "Definitions of AAE model and utility functions"
   ]
  },
  {
   "cell_type": "code",
   "execution_count": 0,
   "metadata": {
    "colab": {},
    "colab_type": "code",
    "id": "s9aTzGIUbS_c"
   },
   "outputs": [],
   "source": [
    "# Utility functions for AAE model\n",
    "\n",
    "def he_initializer(size):\n",
    "    return tf.random_normal_initializer(mean=0.0, stddev=np.sqrt(1. / size), seed=None, dtype=tf.float32)\n",
    "  \n",
    "def linear_layer(tensor, input_size, out_size, init_fn=he_initializer,):\n",
    "    W = tf.get_variable('W', shape=[input_size, out_size], initializer=init_fn(input_size))\n",
    "    b = tf.get_variable('b', shape=[out_size], initializer=tf.constant_initializer(0.1))\n",
    "    return tf.add(tf.matmul(tensor, W), b)\n",
    "  \n",
    "def bn_layer(tensor, size, epsilon=0.0001):\n",
    "    batch_mean, batch_var = tf.nn.moments(tensor, [0])\n",
    "    scale = tf.get_variable('scale', shape=[size], initializer=tf.constant_initializer(1.))\n",
    "    beta = tf.get_variable('beta', shape=[size], initializer=tf.constant_initializer(0.))\n",
    "    return tf.nn.batch_normalization(tensor, batch_mean, batch_var, beta, scale, epsilon)\n",
    "  \n",
    "def sample_prior(loc=0., scale=1., size=(64, 10)):\n",
    "    return np.random.normal(loc=loc, scale=scale, size=size)\n"
   ]
  },
  {
   "cell_type": "code",
   "execution_count": 0,
   "metadata": {
    "colab": {},
    "colab_type": "code",
    "id": "uuVygytXbcF3"
   },
   "outputs": [],
   "source": [
    "# Class definition for AAE\n",
    "\n",
    "class AAE(object):\n",
    "    def __init__(self,\n",
    "                 gpu_config=None,\n",
    "                 batch_size=batch_size_for_model, \n",
    "                 input_space=input_layer_size,\n",
    "                 latent_space=latent_layer_size,\n",
    "                 middle_layers=middle_layer_sizes,\n",
    "                 disc_layers=discriminator_sizes,\n",
    "                 activation_fn=tf.nn.tanh,\n",
    "                 learning_rate=0.001,\n",
    "                 initializer=he_initializer):\n",
    "\n",
    "        self.batch_size = batch_size\n",
    "        self.input_space = input_space\n",
    "        self.latent_space = latent_space\n",
    "        if middle_layers is None:\n",
    "            self.middle_layers = [256, 256]\n",
    "        else:\n",
    "            self.middle_layers = middle_layers\n",
    "        self.activation_fn = activation_fn\n",
    "        self.learning_rate = learning_rate\n",
    "\n",
    "        self.initializer = initializer\n",
    "\n",
    "        tf.reset_default_graph()\n",
    "        \n",
    "        self.input_x = tf.placeholder(tf.float32, [None, input_space])\n",
    "        self.z_tensor = tf.placeholder(tf.float32, [None, latent_space])\n",
    "\n",
    "        # Encoder net: 167->256->256->10\n",
    "        with tf.variable_scope(\"encoder\"):\n",
    "            self.encoder_layers = self.encoder()\n",
    "            self.encoded = self.encoder_layers[-1]\n",
    "        \n",
    "        # Decoder net: 20->256->256->167\n",
    "        with tf.variable_scope(\"decoder\"):\n",
    "            self.decoder_layers = self.decoder(self.encoded)\n",
    "            self.decoded = self.decoder_layers[-1]\n",
    "            tf.get_variable_scope().reuse_variables()\n",
    "            self.generator_layers = self.decoder(self.z_tensor)\n",
    "            self.generated = tf.nn.sigmoid(self.generator_layers[-1])\n",
    "\n",
    "        # Discriminator net: 20->64->64->8->1\n",
    "        sizes = disc_layers\n",
    "        with tf.variable_scope(\"discriminator\"):\n",
    "            self.disc_layers_neg = self.discriminator(self.encoded, sizes)\n",
    "            self.disc_neg = self.disc_layers_neg[-1]\n",
    "            tf.get_variable_scope().reuse_variables()\n",
    "            self.disc_layers_pos = self.discriminator(self.z_tensor, sizes)\n",
    "            self.disc_pos = self.disc_layers_pos[-1]\n",
    "\n",
    "        self.pos_loss = tf.nn.relu(self.disc_pos) - self.disc_pos + tf.log(1.0 + tf.exp(-tf.abs(self.disc_pos)))\n",
    "        self.neg_loss = tf.nn.relu(self.disc_neg) + tf.log(1.0 + tf.exp(-tf.abs(self.disc_neg)))\n",
    "        self.disc_loss = tf.reduce_mean(tf.add(self.pos_loss, self.neg_loss))\n",
    "        \n",
    "        tf.summary.scalar(\"discriminator_loss\", self.disc_loss)\n",
    "            \n",
    "        self.enc_loss = tf.reduce_mean(tf.nn.relu(self.disc_neg) - self.disc_neg + tf.log(1.0 + tf.exp(-tf.abs(self.disc_neg))))\n",
    "        batch_logloss = tf.reduce_sum(tf.nn.sigmoid_cross_entropy_with_logits(logits=self.decoded, labels=self.input_x), 1)\n",
    "        self.dec_loss = tf.reduce_mean(batch_logloss)\n",
    "        \n",
    "        tf.summary.scalar(\"encoder_loss\", self.enc_loss)\n",
    "        tf.summary.scalar(\"decoder_loss\", self.dec_loss)\n",
    "        \n",
    "        disc_ws = tf.get_collection(tf.GraphKeys.GLOBAL_VARIABLES, scope='discriminator')\n",
    "        enc_ws = tf.get_collection(tf.GraphKeys.GLOBAL_VARIABLES, scope='encoder')\n",
    "        ae_ws = tf.get_collection(tf.GraphKeys.GLOBAL_VARIABLES, scope='encoder') + \\\n",
    "                tf.get_collection(tf.GraphKeys.GLOBAL_VARIABLES, scope='decoder')\n",
    "            \n",
    "        self.train_discriminator = tf.train.AdamOptimizer(self.learning_rate).minimize(self.disc_loss, var_list=disc_ws)\n",
    "        self.train_encoder = tf.train.AdamOptimizer(self.learning_rate).minimize(self.enc_loss, var_list=enc_ws)\n",
    "        self.train_autoencoder = tf.train.AdamOptimizer(self.learning_rate).minimize(self.dec_loss, var_list=ae_ws)\n",
    "\n",
    "        if gpu_config is None:\n",
    "            gpu_config = tf.ConfigProto()\n",
    "            gpu_config.gpu_options.per_process_gpu_memory_fraction = 0.4\n",
    "        \n",
    "        self.sess = tf.Session(config=gpu_config)\n",
    "        self.init_net()\n",
    "        \n",
    "    def encoder(self):\n",
    "        sizes = self.middle_layers + [self.latent_space]\n",
    "        with tf.variable_scope(\"layer-0\"):\n",
    "            encoder_layers = [linear_layer(self.input_x, self.input_space, sizes[0])]\n",
    "        for i in range(len(sizes) - 1):\n",
    "            with tf.variable_scope(\"layer-%i\" % (i+1)):\n",
    "                activated = self.activation_fn(encoder_layers[-1])\n",
    "#                 normed = bn_layer(activated, sizes[i])\n",
    "                next_layer = linear_layer(activated, sizes[i], sizes[i+1])\n",
    "            encoder_layers.append(next_layer)\n",
    "            \n",
    "        return encoder_layers\n",
    "\n",
    "    def decoder(self, tensor):\n",
    "        sizes = self.middle_layers[::-1] + [self.input_space]\n",
    "        with tf.variable_scope(\"layer-0\"):\n",
    "            decoder_layers = [linear_layer(tensor, self.latent_space, sizes[0])]\n",
    "        for i in range(len(sizes) - 1):\n",
    "            with tf.variable_scope(\"layer-%i\" % (i+1)):\n",
    "                activated = self.activation_fn(decoder_layers[-1])\n",
    "#                 normed = bn_layer(activated, sizes[i])\n",
    "                next_layer = linear_layer(activated, sizes[i], sizes[i+1])\n",
    "            decoder_layers.append(next_layer)\n",
    "        \n",
    "        return decoder_layers\n",
    "    \n",
    "    def discriminator(self, tensor, sizes):\n",
    "        with tf.variable_scope(\"layer-0\"):\n",
    "            disc_layers = [linear_layer(tensor, self.latent_space, sizes[0])]\n",
    "        for i in range(len(sizes) - 1):\n",
    "            with tf.variable_scope(\"layer-%i\" % (i+1)):\n",
    "                activated = tf.nn.tanh(disc_layers[-1])\n",
    "#                 normed = bn_layer(activated, sizes[i])\n",
    "                next_layer = linear_layer(activated, sizes[i], sizes[i+1])\n",
    "            disc_layers.append(next_layer)\n",
    "\n",
    "        return disc_layers\n",
    "    \n",
    "    def init_net(self):\n",
    "        init = tf.global_variables_initializer()\n",
    "        self.sess.run(init)        \n",
    "    \n",
    "    def train(self, log, epochs):\n",
    "        sess = self.sess\n",
    "        saver = tf.train.Saver()\n",
    "        hist = []\n",
    "        test_data = load_test()\n",
    "        \n",
    "        merged_summary = tf.summary.merge_all()\n",
    "        train_writer = tf.summary.FileWriter('tmp/aae/1')\n",
    "        train_writer.add_graph(sess.graph)\n",
    "        \n",
    "        for e in tqdm(range(epochs)):\n",
    "            print (log, \"epoch #%d\" % (e+1))\n",
    "            log.flush()\n",
    "            train_gen = buffered_gen(train, batch_n=self.batch_size)\n",
    "            for i, batch_x in enumerate(train_gen):\n",
    "                if i%3 == 0:\n",
    "                    batch_z = sample_prior(scale=1.0, size=(len(batch_x), self.latent_space))\n",
    "                    sess.run(self.train_discriminator, feed_dict={self.input_x: batch_x, self.z_tensor: batch_z})\n",
    "                elif i%3 == 1:\n",
    "                    sess.run(self.train_encoder, feed_dict={self.input_x: batch_x})\n",
    "                else:\n",
    "                    sess.run(self.train_autoencoder, feed_dict={self.input_x: batch_x})\n",
    "                if i % 5 == 0:\n",
    "                    batch_z = sample_prior(scale=1.0, size=(len(test_data), self.latent_space))\n",
    "                    s = sess.run(merged_summary, feed_dict={self.input_x: test_data, self.z_tensor: batch_z})\n",
    "                    train_writer.add_summary(s, i)\n",
    "                if i%10000 == 0:\n",
    "                    batch_z = sample_prior(scale=1.0, size=(len(test_data), self.latent_space))\n",
    "                    \n",
    "                    losses = sess.run([self.disc_loss, self.enc_loss, self.dec_loss],\n",
    "                                      feed_dict={self.input_x: test_data, self.z_tensor: batch_z})\n",
    "                    discriminator_loss, encoder_loss, decoder_loss = losses\n",
    "                    print (log, \"disc: %f, encoder : %f, decoder : %f\" % (discriminator_loss/2., encoder_loss, decoder_loss))\n",
    "                    \n",
    "                    log.flush()\n",
    "            else:         \n",
    "                saver.save(sess, './fpt.aae.%de.model.ckpt' % e)\n",
    "                batch_z = sample_prior(scale=1.0, size=(len(test_data), self.latent_space))\n",
    "                losses = sess.run([self.disc_loss, self.enc_loss, self.dec_loss],\n",
    "                                  feed_dict={self.input_x: test_data, self.z_tensor: batch_z})\n",
    "\n",
    "\n",
    "                discriminator_loss, encoder_loss, decoder_loss = losses\n",
    "                print (log, \"disc: %f, encoder : %f, decoder : %f\" % (discriminator_loss/2., encoder_loss, decoder_loss))\n",
    "                    \n",
    "                log.flush()\n",
    "                hist.append(decoder_loss)\n",
    "        return hist\n",
    "    \n",
    "    def load(self, model):\n",
    "        saver = tf.train.Saver()\n",
    "        saver.restore(self.sess, model)"
   ]
  },
  {
   "cell_type": "markdown",
   "metadata": {
    "colab_type": "text",
    "id": "lt-wWGsZHBrq"
   },
   "source": [
    "Training of model"
   ]
  },
  {
   "cell_type": "code",
   "execution_count": 0,
   "metadata": {
    "colab": {},
    "colab_type": "code",
    "id": "mYAys5ndbhvZ"
   },
   "outputs": [],
   "source": [
    "# Initialise AAE\n",
    "\n",
    "aae = AAE(batch_size=1024)"
   ]
  },
  {
   "cell_type": "code",
   "execution_count": 7,
   "metadata": {
    "colab": {
     "base_uri": "https://localhost:8080/",
     "height": 5490
    },
    "colab_type": "code",
    "id": "uDDq0CwCcT4z",
    "outputId": "a853e8a2-8420-4942-9edb-f4f2f9546316"
   },
   "outputs": [
    {
     "name": "stderr",
     "output_type": "stream",
     "text": [
      "\r",
      "  0%|          | 0/100 [00:00<?, ?it/s]"
     ]
    },
    {
     "name": "stdout",
     "output_type": "stream",
     "text": [
      "<_io.TextIOWrapper name='./fpt.aae.log' mode='w' encoding='UTF-8'> epoch #1\n",
      "<_io.TextIOWrapper name='./fpt.aae.log' mode='w' encoding='UTF-8'> disc: 0.610797, encoder : 0.824400, decoder : 121.533417\n"
     ]
    },
    {
     "name": "stderr",
     "output_type": "stream",
     "text": [
      "\r",
      "  1%|          | 1/100 [00:04<08:06,  4.92s/it]"
     ]
    },
    {
     "name": "stdout",
     "output_type": "stream",
     "text": [
      "<_io.TextIOWrapper name='./fpt.aae.log' mode='w' encoding='UTF-8'> disc: 0.757299, encoder : 0.602593, decoder : 77.857780\n",
      "<_io.TextIOWrapper name='./fpt.aae.log' mode='w' encoding='UTF-8'> epoch #2\n",
      "<_io.TextIOWrapper name='./fpt.aae.log' mode='w' encoding='UTF-8'> disc: 0.680611, encoder : 0.744297, decoder : 77.857780\n"
     ]
    },
    {
     "name": "stderr",
     "output_type": "stream",
     "text": [
      "\r",
      "  2%|▏         | 2/100 [00:09<07:47,  4.77s/it]"
     ]
    },
    {
     "name": "stdout",
     "output_type": "stream",
     "text": [
      "<_io.TextIOWrapper name='./fpt.aae.log' mode='w' encoding='UTF-8'> disc: 0.751818, encoder : 0.626029, decoder : 69.566528\n",
      "<_io.TextIOWrapper name='./fpt.aae.log' mode='w' encoding='UTF-8'> epoch #3\n",
      "<_io.TextIOWrapper name='./fpt.aae.log' mode='w' encoding='UTF-8'> disc: 0.695215, encoder : 0.733562, decoder : 69.566528\n"
     ]
    },
    {
     "name": "stderr",
     "output_type": "stream",
     "text": [
      "\r",
      "  3%|▎         | 3/100 [00:14<07:39,  4.74s/it]"
     ]
    },
    {
     "name": "stdout",
     "output_type": "stream",
     "text": [
      "<_io.TextIOWrapper name='./fpt.aae.log' mode='w' encoding='UTF-8'> disc: 0.642875, encoder : 0.831166, decoder : 65.416840\n",
      "<_io.TextIOWrapper name='./fpt.aae.log' mode='w' encoding='UTF-8'> epoch #4\n",
      "<_io.TextIOWrapper name='./fpt.aae.log' mode='w' encoding='UTF-8'> disc: 0.590723, encoder : 0.964667, decoder : 65.416840\n"
     ]
    },
    {
     "name": "stderr",
     "output_type": "stream",
     "text": [
      "\r",
      "  4%|▍         | 4/100 [00:18<07:29,  4.68s/it]"
     ]
    },
    {
     "name": "stdout",
     "output_type": "stream",
     "text": [
      "<_io.TextIOWrapper name='./fpt.aae.log' mode='w' encoding='UTF-8'> disc: 0.969373, encoder : 0.333395, decoder : 64.627808\n",
      "<_io.TextIOWrapper name='./fpt.aae.log' mode='w' encoding='UTF-8'> epoch #5\n",
      "<_io.TextIOWrapper name='./fpt.aae.log' mode='w' encoding='UTF-8'> disc: 0.862309, encoder : 0.430108, decoder : 64.627808\n"
     ]
    },
    {
     "name": "stderr",
     "output_type": "stream",
     "text": [
      "\r",
      "  5%|▌         | 5/100 [00:22<07:13,  4.56s/it]"
     ]
    },
    {
     "name": "stdout",
     "output_type": "stream",
     "text": [
      "<_io.TextIOWrapper name='./fpt.aae.log' mode='w' encoding='UTF-8'> disc: 0.627232, encoder : 0.789854, decoder : 62.720787\n",
      "<_io.TextIOWrapper name='./fpt.aae.log' mode='w' encoding='UTF-8'> epoch #6\n",
      "<_io.TextIOWrapper name='./fpt.aae.log' mode='w' encoding='UTF-8'> disc: 0.579276, encoder : 0.912580, decoder : 62.720787\n"
     ]
    },
    {
     "name": "stderr",
     "output_type": "stream",
     "text": [
      "\r",
      "  6%|▌         | 6/100 [00:27<07:10,  4.58s/it]"
     ]
    },
    {
     "name": "stdout",
     "output_type": "stream",
     "text": [
      "<_io.TextIOWrapper name='./fpt.aae.log' mode='w' encoding='UTF-8'> disc: 1.102155, encoder : 0.239693, decoder : 63.233421\n",
      "<_io.TextIOWrapper name='./fpt.aae.log' mode='w' encoding='UTF-8'> epoch #7\n",
      "<_io.TextIOWrapper name='./fpt.aae.log' mode='w' encoding='UTF-8'> disc: 1.002628, encoder : 0.302077, decoder : 63.233421\n"
     ]
    },
    {
     "name": "stderr",
     "output_type": "stream",
     "text": [
      "\r",
      "  7%|▋         | 7/100 [00:32<07:06,  4.58s/it]"
     ]
    },
    {
     "name": "stdout",
     "output_type": "stream",
     "text": [
      "<_io.TextIOWrapper name='./fpt.aae.log' mode='w' encoding='UTF-8'> disc: 1.013026, encoder : 0.296796, decoder : 62.948002\n",
      "<_io.TextIOWrapper name='./fpt.aae.log' mode='w' encoding='UTF-8'> epoch #8\n",
      "<_io.TextIOWrapper name='./fpt.aae.log' mode='w' encoding='UTF-8'> disc: 0.921536, encoder : 0.367272, decoder : 62.948002\n"
     ]
    },
    {
     "name": "stderr",
     "output_type": "stream",
     "text": [
      "\r",
      "  8%|▊         | 8/100 [00:36<07:02,  4.59s/it]"
     ]
    },
    {
     "name": "stdout",
     "output_type": "stream",
     "text": [
      "<_io.TextIOWrapper name='./fpt.aae.log' mode='w' encoding='UTF-8'> disc: 0.809865, encoder : 0.478865, decoder : 63.801579\n",
      "<_io.TextIOWrapper name='./fpt.aae.log' mode='w' encoding='UTF-8'> epoch #9\n",
      "<_io.TextIOWrapper name='./fpt.aae.log' mode='w' encoding='UTF-8'> disc: 0.752590, encoder : 0.556077, decoder : 63.801579\n"
     ]
    },
    {
     "name": "stderr",
     "output_type": "stream",
     "text": [
      "\r",
      "  9%|▉         | 9/100 [00:41<06:54,  4.56s/it]"
     ]
    },
    {
     "name": "stdout",
     "output_type": "stream",
     "text": [
      "<_io.TextIOWrapper name='./fpt.aae.log' mode='w' encoding='UTF-8'> disc: 0.619117, encoder : 0.752619, decoder : 57.369499\n",
      "<_io.TextIOWrapper name='./fpt.aae.log' mode='w' encoding='UTF-8'> epoch #10\n",
      "<_io.TextIOWrapper name='./fpt.aae.log' mode='w' encoding='UTF-8'> disc: 0.598793, encoder : 0.795414, decoder : 57.369499\n"
     ]
    },
    {
     "name": "stderr",
     "output_type": "stream",
     "text": [
      "\r",
      " 10%|█         | 10/100 [00:45<06:48,  4.54s/it]"
     ]
    },
    {
     "name": "stdout",
     "output_type": "stream",
     "text": [
      "<_io.TextIOWrapper name='./fpt.aae.log' mode='w' encoding='UTF-8'> disc: 0.558356, encoder : 0.845382, decoder : 53.106758\n",
      "<_io.TextIOWrapper name='./fpt.aae.log' mode='w' encoding='UTF-8'> epoch #11\n",
      "<_io.TextIOWrapper name='./fpt.aae.log' mode='w' encoding='UTF-8'> disc: 0.543631, encoder : 0.875838, decoder : 53.106758\n"
     ]
    },
    {
     "name": "stderr",
     "output_type": "stream",
     "text": [
      "\r",
      " 11%|█         | 11/100 [00:49<06:44,  4.54s/it]"
     ]
    },
    {
     "name": "stdout",
     "output_type": "stream",
     "text": [
      "<_io.TextIOWrapper name='./fpt.aae.log' mode='w' encoding='UTF-8'> disc: 0.729296, encoder : 0.501601, decoder : 57.377743\n",
      "<_io.TextIOWrapper name='./fpt.aae.log' mode='w' encoding='UTF-8'> epoch #12\n",
      "<_io.TextIOWrapper name='./fpt.aae.log' mode='w' encoding='UTF-8'> disc: 0.678395, encoder : 0.571281, decoder : 57.377743\n"
     ]
    },
    {
     "name": "stderr",
     "output_type": "stream",
     "text": [
      "\r",
      " 12%|█▏        | 12/100 [00:54<06:40,  4.55s/it]"
     ]
    },
    {
     "name": "stdout",
     "output_type": "stream",
     "text": [
      "<_io.TextIOWrapper name='./fpt.aae.log' mode='w' encoding='UTF-8'> disc: 0.705039, encoder : 0.529604, decoder : 58.044083\n",
      "<_io.TextIOWrapper name='./fpt.aae.log' mode='w' encoding='UTF-8'> epoch #13\n",
      "<_io.TextIOWrapper name='./fpt.aae.log' mode='w' encoding='UTF-8'> disc: 0.647786, encoder : 0.616543, decoder : 58.044083\n"
     ]
    },
    {
     "name": "stderr",
     "output_type": "stream",
     "text": [
      "\r",
      " 13%|█▎        | 13/100 [00:59<06:36,  4.55s/it]"
     ]
    },
    {
     "name": "stdout",
     "output_type": "stream",
     "text": [
      "<_io.TextIOWrapper name='./fpt.aae.log' mode='w' encoding='UTF-8'> disc: 0.476318, encoder : 1.026765, decoder : 52.639919\n",
      "<_io.TextIOWrapper name='./fpt.aae.log' mode='w' encoding='UTF-8'> epoch #14\n",
      "<_io.TextIOWrapper name='./fpt.aae.log' mode='w' encoding='UTF-8'> disc: 0.469031, encoder : 1.051926, decoder : 52.639919\n"
     ]
    },
    {
     "name": "stderr",
     "output_type": "stream",
     "text": [
      "\r",
      " 14%|█▍        | 14/100 [01:03<06:29,  4.53s/it]"
     ]
    },
    {
     "name": "stdout",
     "output_type": "stream",
     "text": [
      "<_io.TextIOWrapper name='./fpt.aae.log' mode='w' encoding='UTF-8'> disc: 0.627409, encoder : 0.627552, decoder : 53.798920\n",
      "<_io.TextIOWrapper name='./fpt.aae.log' mode='w' encoding='UTF-8'> epoch #15\n",
      "<_io.TextIOWrapper name='./fpt.aae.log' mode='w' encoding='UTF-8'> disc: 0.585248, encoder : 0.709750, decoder : 53.798920\n"
     ]
    },
    {
     "name": "stderr",
     "output_type": "stream",
     "text": [
      "\r",
      " 15%|█▌        | 15/100 [01:08<06:25,  4.53s/it]"
     ]
    },
    {
     "name": "stdout",
     "output_type": "stream",
     "text": [
      "<_io.TextIOWrapper name='./fpt.aae.log' mode='w' encoding='UTF-8'> disc: 0.631501, encoder : 0.596357, decoder : 51.847481\n",
      "<_io.TextIOWrapper name='./fpt.aae.log' mode='w' encoding='UTF-8'> epoch #16\n",
      "<_io.TextIOWrapper name='./fpt.aae.log' mode='w' encoding='UTF-8'> disc: 0.594204, encoder : 0.660216, decoder : 51.847481\n"
     ]
    },
    {
     "name": "stderr",
     "output_type": "stream",
     "text": [
      "\r",
      " 16%|█▌        | 16/100 [01:12<06:21,  4.54s/it]"
     ]
    },
    {
     "name": "stdout",
     "output_type": "stream",
     "text": [
      "<_io.TextIOWrapper name='./fpt.aae.log' mode='w' encoding='UTF-8'> disc: 0.532935, encoder : 0.792126, decoder : 52.241348\n",
      "<_io.TextIOWrapper name='./fpt.aae.log' mode='w' encoding='UTF-8'> epoch #17\n",
      "<_io.TextIOWrapper name='./fpt.aae.log' mode='w' encoding='UTF-8'> disc: 0.502157, encoder : 0.864534, decoder : 52.241348\n"
     ]
    },
    {
     "name": "stderr",
     "output_type": "stream",
     "text": [
      "\r",
      " 17%|█▋        | 17/100 [01:17<06:17,  4.55s/it]"
     ]
    },
    {
     "name": "stdout",
     "output_type": "stream",
     "text": [
      "<_io.TextIOWrapper name='./fpt.aae.log' mode='w' encoding='UTF-8'> disc: 0.599483, encoder : 0.630945, decoder : 52.953930\n",
      "<_io.TextIOWrapper name='./fpt.aae.log' mode='w' encoding='UTF-8'> epoch #18\n",
      "<_io.TextIOWrapper name='./fpt.aae.log' mode='w' encoding='UTF-8'> disc: 0.549624, encoder : 0.729715, decoder : 52.953930\n"
     ]
    },
    {
     "name": "stderr",
     "output_type": "stream",
     "text": [
      "\r",
      " 18%|█▊        | 18/100 [01:21<06:11,  4.52s/it]"
     ]
    },
    {
     "name": "stdout",
     "output_type": "stream",
     "text": [
      "<_io.TextIOWrapper name='./fpt.aae.log' mode='w' encoding='UTF-8'> disc: 0.737277, encoder : 0.454451, decoder : 53.107239\n",
      "<_io.TextIOWrapper name='./fpt.aae.log' mode='w' encoding='UTF-8'> epoch #19\n",
      "<_io.TextIOWrapper name='./fpt.aae.log' mode='w' encoding='UTF-8'> disc: 0.678546, encoder : 0.537872, decoder : 53.107239\n"
     ]
    },
    {
     "name": "stderr",
     "output_type": "stream",
     "text": [
      "\r",
      " 19%|█▉        | 19/100 [01:25<06:05,  4.51s/it]"
     ]
    },
    {
     "name": "stdout",
     "output_type": "stream",
     "text": [
      "<_io.TextIOWrapper name='./fpt.aae.log' mode='w' encoding='UTF-8'> disc: 0.434100, encoder : 1.021679, decoder : 50.847786\n",
      "<_io.TextIOWrapper name='./fpt.aae.log' mode='w' encoding='UTF-8'> epoch #20\n",
      "<_io.TextIOWrapper name='./fpt.aae.log' mode='w' encoding='UTF-8'> disc: 0.419719, encoder : 1.066147, decoder : 50.847786\n"
     ]
    },
    {
     "name": "stderr",
     "output_type": "stream",
     "text": [
      "\r",
      " 20%|██        | 20/100 [01:30<06:01,  4.52s/it]"
     ]
    },
    {
     "name": "stdout",
     "output_type": "stream",
     "text": [
      "<_io.TextIOWrapper name='./fpt.aae.log' mode='w' encoding='UTF-8'> disc: 0.404959, encoder : 1.074600, decoder : 53.583355\n",
      "<_io.TextIOWrapper name='./fpt.aae.log' mode='w' encoding='UTF-8'> epoch #21\n",
      "<_io.TextIOWrapper name='./fpt.aae.log' mode='w' encoding='UTF-8'> disc: 0.376903, encoder : 1.176648, decoder : 53.583355\n"
     ]
    },
    {
     "name": "stderr",
     "output_type": "stream",
     "text": [
      "\r",
      " 21%|██        | 21/100 [01:35<05:57,  4.52s/it]"
     ]
    },
    {
     "name": "stdout",
     "output_type": "stream",
     "text": [
      "<_io.TextIOWrapper name='./fpt.aae.log' mode='w' encoding='UTF-8'> disc: 0.492025, encoder : 0.781674, decoder : 51.945232\n",
      "<_io.TextIOWrapper name='./fpt.aae.log' mode='w' encoding='UTF-8'> epoch #22\n",
      "<_io.TextIOWrapper name='./fpt.aae.log' mode='w' encoding='UTF-8'> disc: 0.443713, encoder : 0.905524, decoder : 51.945232\n"
     ]
    },
    {
     "name": "stderr",
     "output_type": "stream",
     "text": [
      "\r",
      " 22%|██▏       | 22/100 [01:39<05:52,  4.52s/it]"
     ]
    },
    {
     "name": "stdout",
     "output_type": "stream",
     "text": [
      "<_io.TextIOWrapper name='./fpt.aae.log' mode='w' encoding='UTF-8'> disc: 0.685091, encoder : 0.447182, decoder : 53.236664\n",
      "<_io.TextIOWrapper name='./fpt.aae.log' mode='w' encoding='UTF-8'> epoch #23\n",
      "<_io.TextIOWrapper name='./fpt.aae.log' mode='w' encoding='UTF-8'> disc: 0.666631, encoder : 0.467313, decoder : 53.236664\n"
     ]
    },
    {
     "name": "stderr",
     "output_type": "stream",
     "text": [
      "\r",
      " 23%|██▎       | 23/100 [01:43<05:46,  4.50s/it]"
     ]
    },
    {
     "name": "stdout",
     "output_type": "stream",
     "text": [
      "<_io.TextIOWrapper name='./fpt.aae.log' mode='w' encoding='UTF-8'> disc: 0.364898, encoder : 1.080037, decoder : 51.949772\n",
      "<_io.TextIOWrapper name='./fpt.aae.log' mode='w' encoding='UTF-8'> epoch #24\n",
      "<_io.TextIOWrapper name='./fpt.aae.log' mode='w' encoding='UTF-8'> disc: 0.350200, encoder : 1.133806, decoder : 51.949772\n"
     ]
    },
    {
     "name": "stderr",
     "output_type": "stream",
     "text": [
      "\r",
      " 24%|██▍       | 24/100 [01:48<05:42,  4.51s/it]"
     ]
    },
    {
     "name": "stdout",
     "output_type": "stream",
     "text": [
      "<_io.TextIOWrapper name='./fpt.aae.log' mode='w' encoding='UTF-8'> disc: 0.445268, encoder : 0.800691, decoder : 52.072189\n",
      "<_io.TextIOWrapper name='./fpt.aae.log' mode='w' encoding='UTF-8'> epoch #25\n",
      "<_io.TextIOWrapper name='./fpt.aae.log' mode='w' encoding='UTF-8'> disc: 0.388342, encoder : 0.952076, decoder : 52.072189\n"
     ]
    },
    {
     "name": "stderr",
     "output_type": "stream",
     "text": [
      "\r",
      " 25%|██▌       | 25/100 [01:52<05:38,  4.52s/it]"
     ]
    },
    {
     "name": "stdout",
     "output_type": "stream",
     "text": [
      "<_io.TextIOWrapper name='./fpt.aae.log' mode='w' encoding='UTF-8'> disc: 0.635060, encoder : 0.523849, decoder : 55.930912\n",
      "<_io.TextIOWrapper name='./fpt.aae.log' mode='w' encoding='UTF-8'> epoch #26\n",
      "<_io.TextIOWrapper name='./fpt.aae.log' mode='w' encoding='UTF-8'> disc: 0.572273, encoder : 0.619898, decoder : 55.930912\n"
     ]
    },
    {
     "name": "stderr",
     "output_type": "stream",
     "text": [
      "\r",
      " 26%|██▌       | 26/100 [01:57<05:34,  4.52s/it]"
     ]
    },
    {
     "name": "stdout",
     "output_type": "stream",
     "text": [
      "<_io.TextIOWrapper name='./fpt.aae.log' mode='w' encoding='UTF-8'> disc: 0.802320, encoder : 0.333821, decoder : 57.519012\n",
      "<_io.TextIOWrapper name='./fpt.aae.log' mode='w' encoding='UTF-8'> epoch #27\n",
      "<_io.TextIOWrapper name='./fpt.aae.log' mode='w' encoding='UTF-8'> disc: 0.763942, encoder : 0.366866, decoder : 57.519012\n"
     ]
    },
    {
     "name": "stderr",
     "output_type": "stream",
     "text": [
      "\r",
      " 27%|██▋       | 27/100 [02:01<05:29,  4.51s/it]"
     ]
    },
    {
     "name": "stdout",
     "output_type": "stream",
     "text": [
      "<_io.TextIOWrapper name='./fpt.aae.log' mode='w' encoding='UTF-8'> disc: 0.600514, encoder : 0.546296, decoder : 49.454041\n",
      "<_io.TextIOWrapper name='./fpt.aae.log' mode='w' encoding='UTF-8'> epoch #28\n",
      "<_io.TextIOWrapper name='./fpt.aae.log' mode='w' encoding='UTF-8'> disc: 0.585241, encoder : 0.568215, decoder : 49.454041\n"
     ]
    },
    {
     "name": "stderr",
     "output_type": "stream",
     "text": [
      "\r",
      " 28%|██▊       | 28/100 [02:06<05:24,  4.51s/it]"
     ]
    },
    {
     "name": "stdout",
     "output_type": "stream",
     "text": [
      "<_io.TextIOWrapper name='./fpt.aae.log' mode='w' encoding='UTF-8'> disc: 0.512990, encoder : 0.671541, decoder : 47.926262\n",
      "<_io.TextIOWrapper name='./fpt.aae.log' mode='w' encoding='UTF-8'> epoch #29\n",
      "<_io.TextIOWrapper name='./fpt.aae.log' mode='w' encoding='UTF-8'> disc: 0.505751, encoder : 0.684683, decoder : 47.926262\n"
     ]
    },
    {
     "name": "stderr",
     "output_type": "stream",
     "text": [
      "\r",
      " 29%|██▉       | 29/100 [02:10<05:20,  4.51s/it]"
     ]
    },
    {
     "name": "stdout",
     "output_type": "stream",
     "text": [
      "<_io.TextIOWrapper name='./fpt.aae.log' mode='w' encoding='UTF-8'> disc: 0.447881, encoder : 0.774155, decoder : 46.823685\n",
      "<_io.TextIOWrapper name='./fpt.aae.log' mode='w' encoding='UTF-8'> epoch #30\n",
      "<_io.TextIOWrapper name='./fpt.aae.log' mode='w' encoding='UTF-8'> disc: 0.441630, encoder : 0.789995, decoder : 46.823685\n"
     ]
    },
    {
     "name": "stderr",
     "output_type": "stream",
     "text": [
      "\r",
      " 30%|███       | 30/100 [02:15<05:16,  4.52s/it]"
     ]
    },
    {
     "name": "stdout",
     "output_type": "stream",
     "text": [
      "<_io.TextIOWrapper name='./fpt.aae.log' mode='w' encoding='UTF-8'> disc: 0.364408, encoder : 0.967049, decoder : 46.225864\n",
      "<_io.TextIOWrapper name='./fpt.aae.log' mode='w' encoding='UTF-8'> epoch #31\n",
      "<_io.TextIOWrapper name='./fpt.aae.log' mode='w' encoding='UTF-8'> disc: 0.353999, encoder : 0.997297, decoder : 46.225864\n"
     ]
    },
    {
     "name": "stderr",
     "output_type": "stream",
     "text": [
      "\r",
      " 31%|███       | 31/100 [02:20<05:11,  4.52s/it]"
     ]
    },
    {
     "name": "stdout",
     "output_type": "stream",
     "text": [
      "<_io.TextIOWrapper name='./fpt.aae.log' mode='w' encoding='UTF-8'> disc: 0.238658, encoder : 1.489877, decoder : 46.793026\n",
      "<_io.TextIOWrapper name='./fpt.aae.log' mode='w' encoding='UTF-8'> epoch #32\n",
      "<_io.TextIOWrapper name='./fpt.aae.log' mode='w' encoding='UTF-8'> disc: 0.228548, encoder : 1.555607, decoder : 46.793026\n"
     ]
    },
    {
     "name": "stderr",
     "output_type": "stream",
     "text": [
      "\r",
      " 32%|███▏      | 32/100 [02:24<05:06,  4.50s/it]"
     ]
    },
    {
     "name": "stdout",
     "output_type": "stream",
     "text": [
      "<_io.TextIOWrapper name='./fpt.aae.log' mode='w' encoding='UTF-8'> disc: 0.208091, encoder : 1.611756, decoder : 46.922462\n",
      "<_io.TextIOWrapper name='./fpt.aae.log' mode='w' encoding='UTF-8'> epoch #33\n",
      "<_io.TextIOWrapper name='./fpt.aae.log' mode='w' encoding='UTF-8'> disc: 0.206326, encoder : 1.618462, decoder : 46.922462\n"
     ]
    },
    {
     "name": "stderr",
     "output_type": "stream",
     "text": [
      "\r",
      " 33%|███▎      | 33/100 [02:28<05:01,  4.51s/it]"
     ]
    },
    {
     "name": "stdout",
     "output_type": "stream",
     "text": [
      "<_io.TextIOWrapper name='./fpt.aae.log' mode='w' encoding='UTF-8'> disc: 0.253551, encoder : 1.286849, decoder : 48.155975\n",
      "<_io.TextIOWrapper name='./fpt.aae.log' mode='w' encoding='UTF-8'> epoch #34\n",
      "<_io.TextIOWrapper name='./fpt.aae.log' mode='w' encoding='UTF-8'> disc: 0.236453, encoder : 1.371832, decoder : 48.155975\n"
     ]
    },
    {
     "name": "stderr",
     "output_type": "stream",
     "text": [
      "\r",
      " 34%|███▍      | 34/100 [02:33<04:57,  4.51s/it]"
     ]
    },
    {
     "name": "stdout",
     "output_type": "stream",
     "text": [
      "<_io.TextIOWrapper name='./fpt.aae.log' mode='w' encoding='UTF-8'> disc: 0.235811, encoder : 1.476787, decoder : 47.818779\n",
      "<_io.TextIOWrapper name='./fpt.aae.log' mode='w' encoding='UTF-8'> epoch #35\n",
      "<_io.TextIOWrapper name='./fpt.aae.log' mode='w' encoding='UTF-8'> disc: 0.217928, encoder : 1.565499, decoder : 47.818779\n"
     ]
    },
    {
     "name": "stderr",
     "output_type": "stream",
     "text": [
      "\r",
      " 35%|███▌      | 35/100 [02:38<04:53,  4.52s/it]"
     ]
    },
    {
     "name": "stdout",
     "output_type": "stream",
     "text": [
      "<_io.TextIOWrapper name='./fpt.aae.log' mode='w' encoding='UTF-8'> disc: 0.847776, encoder : 0.281694, decoder : 54.869072\n",
      "<_io.TextIOWrapper name='./fpt.aae.log' mode='w' encoding='UTF-8'> epoch #36\n",
      "<_io.TextIOWrapper name='./fpt.aae.log' mode='w' encoding='UTF-8'> disc: 0.699813, encoder : 0.409638, decoder : 54.869072\n"
     ]
    },
    {
     "name": "stderr",
     "output_type": "stream",
     "text": [
      "\r",
      " 36%|███▌      | 36/100 [02:42<04:48,  4.51s/it]"
     ]
    },
    {
     "name": "stdout",
     "output_type": "stream",
     "text": [
      "<_io.TextIOWrapper name='./fpt.aae.log' mode='w' encoding='UTF-8'> disc: 0.668084, encoder : 0.430191, decoder : 54.830719\n",
      "<_io.TextIOWrapper name='./fpt.aae.log' mode='w' encoding='UTF-8'> epoch #37\n",
      "<_io.TextIOWrapper name='./fpt.aae.log' mode='w' encoding='UTF-8'> disc: 0.659750, encoder : 0.439184, decoder : 54.830719\n"
     ]
    },
    {
     "name": "stderr",
     "output_type": "stream",
     "text": [
      "\r",
      " 37%|███▋      | 37/100 [02:46<04:43,  4.50s/it]"
     ]
    },
    {
     "name": "stdout",
     "output_type": "stream",
     "text": [
      "<_io.TextIOWrapper name='./fpt.aae.log' mode='w' encoding='UTF-8'> disc: 0.574600, encoder : 0.525234, decoder : 49.670246\n",
      "<_io.TextIOWrapper name='./fpt.aae.log' mode='w' encoding='UTF-8'> epoch #38\n",
      "<_io.TextIOWrapper name='./fpt.aae.log' mode='w' encoding='UTF-8'> disc: 0.564668, encoder : 0.535630, decoder : 49.670246\n"
     ]
    },
    {
     "name": "stderr",
     "output_type": "stream",
     "text": [
      "\r",
      " 38%|███▊      | 38/100 [02:51<04:39,  4.50s/it]"
     ]
    },
    {
     "name": "stdout",
     "output_type": "stream",
     "text": [
      "<_io.TextIOWrapper name='./fpt.aae.log' mode='w' encoding='UTF-8'> disc: 0.476322, encoder : 0.668168, decoder : 47.378872\n",
      "<_io.TextIOWrapper name='./fpt.aae.log' mode='w' encoding='UTF-8'> epoch #39\n",
      "<_io.TextIOWrapper name='./fpt.aae.log' mode='w' encoding='UTF-8'> disc: 0.456930, encoder : 0.705058, decoder : 47.378872\n"
     ]
    },
    {
     "name": "stderr",
     "output_type": "stream",
     "text": [
      "\r",
      " 39%|███▉      | 39/100 [02:55<04:34,  4.51s/it]"
     ]
    },
    {
     "name": "stdout",
     "output_type": "stream",
     "text": [
      "<_io.TextIOWrapper name='./fpt.aae.log' mode='w' encoding='UTF-8'> disc: 0.536614, encoder : 0.662312, decoder : 51.366947\n",
      "<_io.TextIOWrapper name='./fpt.aae.log' mode='w' encoding='UTF-8'> epoch #40\n",
      "<_io.TextIOWrapper name='./fpt.aae.log' mode='w' encoding='UTF-8'> disc: 0.499697, encoder : 0.730207, decoder : 51.366947\n"
     ]
    },
    {
     "name": "stderr",
     "output_type": "stream",
     "text": [
      "\r",
      " 40%|████      | 40/100 [03:00<04:30,  4.51s/it]"
     ]
    },
    {
     "name": "stdout",
     "output_type": "stream",
     "text": [
      "<_io.TextIOWrapper name='./fpt.aae.log' mode='w' encoding='UTF-8'> disc: 0.603608, encoder : 0.535025, decoder : 51.493332\n",
      "<_io.TextIOWrapper name='./fpt.aae.log' mode='w' encoding='UTF-8'> epoch #41\n",
      "<_io.TextIOWrapper name='./fpt.aae.log' mode='w' encoding='UTF-8'> disc: 0.494673, encoder : 0.730518, decoder : 51.493332\n"
     ]
    },
    {
     "name": "stderr",
     "output_type": "stream",
     "text": [
      "\r",
      " 41%|████      | 41/100 [03:04<04:25,  4.50s/it]"
     ]
    },
    {
     "name": "stdout",
     "output_type": "stream",
     "text": [
      "<_io.TextIOWrapper name='./fpt.aae.log' mode='w' encoding='UTF-8'> disc: 0.449088, encoder : 0.787530, decoder : 53.102974\n",
      "<_io.TextIOWrapper name='./fpt.aae.log' mode='w' encoding='UTF-8'> epoch #42\n",
      "<_io.TextIOWrapper name='./fpt.aae.log' mode='w' encoding='UTF-8'> disc: 0.434260, encoder : 0.823327, decoder : 53.102974\n"
     ]
    },
    {
     "name": "stderr",
     "output_type": "stream",
     "text": [
      "\r",
      " 42%|████▏     | 42/100 [03:09<04:21,  4.50s/it]"
     ]
    },
    {
     "name": "stdout",
     "output_type": "stream",
     "text": [
      "<_io.TextIOWrapper name='./fpt.aae.log' mode='w' encoding='UTF-8'> disc: 0.352639, encoder : 1.011430, decoder : 48.257584\n",
      "<_io.TextIOWrapper name='./fpt.aae.log' mode='w' encoding='UTF-8'> epoch #43\n",
      "<_io.TextIOWrapper name='./fpt.aae.log' mode='w' encoding='UTF-8'> disc: 0.348078, encoder : 1.024416, decoder : 48.257584\n"
     ]
    },
    {
     "name": "stderr",
     "output_type": "stream",
     "text": [
      "\r",
      " 43%|████▎     | 43/100 [03:13<04:16,  4.51s/it]"
     ]
    },
    {
     "name": "stdout",
     "output_type": "stream",
     "text": [
      "<_io.TextIOWrapper name='./fpt.aae.log' mode='w' encoding='UTF-8'> disc: 0.313375, encoder : 1.083045, decoder : 46.289227\n",
      "<_io.TextIOWrapper name='./fpt.aae.log' mode='w' encoding='UTF-8'> epoch #44\n",
      "<_io.TextIOWrapper name='./fpt.aae.log' mode='w' encoding='UTF-8'> disc: 0.309609, encoder : 1.093625, decoder : 46.289227\n"
     ]
    },
    {
     "name": "stderr",
     "output_type": "stream",
     "text": [
      "\r",
      " 44%|████▍     | 44/100 [03:18<04:12,  4.51s/it]"
     ]
    },
    {
     "name": "stdout",
     "output_type": "stream",
     "text": [
      "<_io.TextIOWrapper name='./fpt.aae.log' mode='w' encoding='UTF-8'> disc: 0.296507, encoder : 1.093319, decoder : 46.332890\n",
      "<_io.TextIOWrapper name='./fpt.aae.log' mode='w' encoding='UTF-8'> epoch #45\n",
      "<_io.TextIOWrapper name='./fpt.aae.log' mode='w' encoding='UTF-8'> disc: 0.292440, encoder : 1.105725, decoder : 46.332890\n"
     ]
    },
    {
     "name": "stderr",
     "output_type": "stream",
     "text": [
      "\r",
      " 45%|████▌     | 45/100 [03:22<04:07,  4.51s/it]"
     ]
    },
    {
     "name": "stdout",
     "output_type": "stream",
     "text": [
      "<_io.TextIOWrapper name='./fpt.aae.log' mode='w' encoding='UTF-8'> disc: 0.262286, encoder : 1.204076, decoder : 45.722420\n",
      "<_io.TextIOWrapper name='./fpt.aae.log' mode='w' encoding='UTF-8'> epoch #46\n",
      "<_io.TextIOWrapper name='./fpt.aae.log' mode='w' encoding='UTF-8'> disc: 0.258422, encoder : 1.217489, decoder : 45.722420\n"
     ]
    },
    {
     "name": "stderr",
     "output_type": "stream",
     "text": [
      "\r",
      " 46%|████▌     | 46/100 [03:26<04:02,  4.50s/it]"
     ]
    },
    {
     "name": "stdout",
     "output_type": "stream",
     "text": [
      "<_io.TextIOWrapper name='./fpt.aae.log' mode='w' encoding='UTF-8'> disc: 0.230574, encoder : 1.338550, decoder : 45.164799\n",
      "<_io.TextIOWrapper name='./fpt.aae.log' mode='w' encoding='UTF-8'> epoch #47\n",
      "<_io.TextIOWrapper name='./fpt.aae.log' mode='w' encoding='UTF-8'> disc: 0.228356, encoder : 1.351178, decoder : 45.164799\n"
     ]
    },
    {
     "name": "stderr",
     "output_type": "stream",
     "text": [
      "\r",
      " 47%|████▋     | 47/100 [03:31<03:58,  4.50s/it]"
     ]
    },
    {
     "name": "stdout",
     "output_type": "stream",
     "text": [
      "<_io.TextIOWrapper name='./fpt.aae.log' mode='w' encoding='UTF-8'> disc: 0.264984, encoder : 1.295784, decoder : 46.232784\n",
      "<_io.TextIOWrapper name='./fpt.aae.log' mode='w' encoding='UTF-8'> epoch #48\n",
      "<_io.TextIOWrapper name='./fpt.aae.log' mode='w' encoding='UTF-8'> disc: 0.249140, encoder : 1.341692, decoder : 46.232784\n"
     ]
    },
    {
     "name": "stderr",
     "output_type": "stream",
     "text": [
      "\r",
      " 48%|████▊     | 48/100 [03:36<03:54,  4.51s/it]"
     ]
    },
    {
     "name": "stdout",
     "output_type": "stream",
     "text": [
      "<_io.TextIOWrapper name='./fpt.aae.log' mode='w' encoding='UTF-8'> disc: 0.802472, encoder : 0.376795, decoder : 53.953781\n",
      "<_io.TextIOWrapper name='./fpt.aae.log' mode='w' encoding='UTF-8'> epoch #49\n",
      "<_io.TextIOWrapper name='./fpt.aae.log' mode='w' encoding='UTF-8'> disc: 0.696898, encoder : 0.488032, decoder : 53.953781\n"
     ]
    },
    {
     "name": "stderr",
     "output_type": "stream",
     "text": [
      "\r",
      " 49%|████▉     | 49/100 [03:40<03:49,  4.51s/it]"
     ]
    },
    {
     "name": "stdout",
     "output_type": "stream",
     "text": [
      "<_io.TextIOWrapper name='./fpt.aae.log' mode='w' encoding='UTF-8'> disc: 0.468929, encoder : 0.719477, decoder : 60.400661\n",
      "<_io.TextIOWrapper name='./fpt.aae.log' mode='w' encoding='UTF-8'> epoch #50\n",
      "<_io.TextIOWrapper name='./fpt.aae.log' mode='w' encoding='UTF-8'> disc: 0.456025, encoder : 0.746478, decoder : 60.400661\n"
     ]
    },
    {
     "name": "stderr",
     "output_type": "stream",
     "text": [
      "\r",
      " 50%|█████     | 50/100 [03:44<03:44,  4.50s/it]"
     ]
    },
    {
     "name": "stdout",
     "output_type": "stream",
     "text": [
      "<_io.TextIOWrapper name='./fpt.aae.log' mode='w' encoding='UTF-8'> disc: 0.398012, encoder : 0.870242, decoder : 48.353806\n",
      "<_io.TextIOWrapper name='./fpt.aae.log' mode='w' encoding='UTF-8'> epoch #51\n",
      "<_io.TextIOWrapper name='./fpt.aae.log' mode='w' encoding='UTF-8'> disc: 0.394255, encoder : 0.876309, decoder : 48.353806\n"
     ]
    },
    {
     "name": "stderr",
     "output_type": "stream",
     "text": [
      "\r",
      " 51%|█████     | 51/100 [03:49<03:40,  4.50s/it]"
     ]
    },
    {
     "name": "stdout",
     "output_type": "stream",
     "text": [
      "<_io.TextIOWrapper name='./fpt.aae.log' mode='w' encoding='UTF-8'> disc: 0.347335, encoder : 0.965970, decoder : 45.901909\n",
      "<_io.TextIOWrapper name='./fpt.aae.log' mode='w' encoding='UTF-8'> epoch #52\n",
      "<_io.TextIOWrapper name='./fpt.aae.log' mode='w' encoding='UTF-8'> disc: 0.344338, encoder : 0.971397, decoder : 45.901909\n"
     ]
    },
    {
     "name": "stderr",
     "output_type": "stream",
     "text": [
      "\r",
      " 52%|█████▏    | 52/100 [03:54<03:36,  4.50s/it]"
     ]
    },
    {
     "name": "stdout",
     "output_type": "stream",
     "text": [
      "<_io.TextIOWrapper name='./fpt.aae.log' mode='w' encoding='UTF-8'> disc: 0.307740, encoder : 1.053008, decoder : 44.520748\n",
      "<_io.TextIOWrapper name='./fpt.aae.log' mode='w' encoding='UTF-8'> epoch #53\n",
      "<_io.TextIOWrapper name='./fpt.aae.log' mode='w' encoding='UTF-8'> disc: 0.306026, encoder : 1.058049, decoder : 44.520748\n"
     ]
    },
    {
     "name": "stderr",
     "output_type": "stream",
     "text": [
      "\r",
      " 53%|█████▎    | 53/100 [03:58<03:31,  4.51s/it]"
     ]
    },
    {
     "name": "stdout",
     "output_type": "stream",
     "text": [
      "<_io.TextIOWrapper name='./fpt.aae.log' mode='w' encoding='UTF-8'> disc: 0.278261, encoder : 1.132622, decoder : 43.593586\n",
      "<_io.TextIOWrapper name='./fpt.aae.log' mode='w' encoding='UTF-8'> epoch #54\n",
      "<_io.TextIOWrapper name='./fpt.aae.log' mode='w' encoding='UTF-8'> disc: 0.276521, encoder : 1.137471, decoder : 43.593586\n"
     ]
    },
    {
     "name": "stderr",
     "output_type": "stream",
     "text": [
      "\r",
      " 54%|█████▍    | 54/100 [04:03<03:27,  4.50s/it]"
     ]
    },
    {
     "name": "stdout",
     "output_type": "stream",
     "text": [
      "<_io.TextIOWrapper name='./fpt.aae.log' mode='w' encoding='UTF-8'> disc: 0.257356, encoder : 1.200827, decoder : 43.073471\n",
      "<_io.TextIOWrapper name='./fpt.aae.log' mode='w' encoding='UTF-8'> epoch #55\n",
      "<_io.TextIOWrapper name='./fpt.aae.log' mode='w' encoding='UTF-8'> disc: 0.256815, encoder : 1.205838, decoder : 43.073471\n"
     ]
    },
    {
     "name": "stderr",
     "output_type": "stream",
     "text": [
      "\r",
      " 55%|█████▌    | 55/100 [04:07<03:22,  4.50s/it]"
     ]
    },
    {
     "name": "stdout",
     "output_type": "stream",
     "text": [
      "<_io.TextIOWrapper name='./fpt.aae.log' mode='w' encoding='UTF-8'> disc: 0.313661, encoder : 1.140430, decoder : 44.820515\n",
      "<_io.TextIOWrapper name='./fpt.aae.log' mode='w' encoding='UTF-8'> epoch #56\n",
      "<_io.TextIOWrapper name='./fpt.aae.log' mode='w' encoding='UTF-8'> disc: 0.308324, encoder : 1.152444, decoder : 44.820515\n"
     ]
    },
    {
     "name": "stderr",
     "output_type": "stream",
     "text": [
      "\r",
      " 56%|█████▌    | 56/100 [04:12<03:18,  4.50s/it]"
     ]
    },
    {
     "name": "stdout",
     "output_type": "stream",
     "text": [
      "<_io.TextIOWrapper name='./fpt.aae.log' mode='w' encoding='UTF-8'> disc: 1.031521, encoder : 0.185090, decoder : 49.599854\n",
      "<_io.TextIOWrapper name='./fpt.aae.log' mode='w' encoding='UTF-8'> epoch #57\n",
      "<_io.TextIOWrapper name='./fpt.aae.log' mode='w' encoding='UTF-8'> disc: 0.985839, encoder : 0.212616, decoder : 49.599854\n"
     ]
    },
    {
     "name": "stderr",
     "output_type": "stream",
     "text": [
      "\r",
      " 57%|█████▋    | 57/100 [04:16<03:13,  4.50s/it]"
     ]
    },
    {
     "name": "stdout",
     "output_type": "stream",
     "text": [
      "<_io.TextIOWrapper name='./fpt.aae.log' mode='w' encoding='UTF-8'> disc: 0.914972, encoder : 0.242724, decoder : 53.293179\n",
      "<_io.TextIOWrapper name='./fpt.aae.log' mode='w' encoding='UTF-8'> epoch #58\n",
      "<_io.TextIOWrapper name='./fpt.aae.log' mode='w' encoding='UTF-8'> disc: 0.845494, encoder : 0.289719, decoder : 53.293179\n"
     ]
    },
    {
     "name": "stderr",
     "output_type": "stream",
     "text": [
      "\r",
      " 58%|█████▊    | 58/100 [04:21<03:09,  4.50s/it]"
     ]
    },
    {
     "name": "stdout",
     "output_type": "stream",
     "text": [
      "<_io.TextIOWrapper name='./fpt.aae.log' mode='w' encoding='UTF-8'> disc: 0.852890, encoder : 0.329723, decoder : 64.722496\n",
      "<_io.TextIOWrapper name='./fpt.aae.log' mode='w' encoding='UTF-8'> epoch #59\n",
      "<_io.TextIOWrapper name='./fpt.aae.log' mode='w' encoding='UTF-8'> disc: 0.710818, encoder : 0.469401, decoder : 64.722496\n"
     ]
    },
    {
     "name": "stderr",
     "output_type": "stream",
     "text": [
      "\r",
      " 59%|█████▉    | 59/100 [04:25<03:04,  4.50s/it]"
     ]
    },
    {
     "name": "stdout",
     "output_type": "stream",
     "text": [
      "<_io.TextIOWrapper name='./fpt.aae.log' mode='w' encoding='UTF-8'> disc: 0.830191, encoder : 0.415028, decoder : 67.142464\n",
      "<_io.TextIOWrapper name='./fpt.aae.log' mode='w' encoding='UTF-8'> epoch #60\n",
      "<_io.TextIOWrapper name='./fpt.aae.log' mode='w' encoding='UTF-8'> disc: 0.735659, encoder : 0.521101, decoder : 67.142464\n"
     ]
    },
    {
     "name": "stderr",
     "output_type": "stream",
     "text": [
      "\r",
      " 60%|██████    | 60/100 [04:29<02:59,  4.50s/it]"
     ]
    },
    {
     "name": "stdout",
     "output_type": "stream",
     "text": [
      "<_io.TextIOWrapper name='./fpt.aae.log' mode='w' encoding='UTF-8'> disc: 0.554567, encoder : 0.893960, decoder : 51.041138\n",
      "<_io.TextIOWrapper name='./fpt.aae.log' mode='w' encoding='UTF-8'> epoch #61\n",
      "<_io.TextIOWrapper name='./fpt.aae.log' mode='w' encoding='UTF-8'> disc: 0.546127, encoder : 0.913654, decoder : 51.041138\n"
     ]
    },
    {
     "name": "stderr",
     "output_type": "stream",
     "text": [
      "\r",
      " 61%|██████    | 61/100 [04:34<02:55,  4.50s/it]"
     ]
    },
    {
     "name": "stdout",
     "output_type": "stream",
     "text": [
      "<_io.TextIOWrapper name='./fpt.aae.log' mode='w' encoding='UTF-8'> disc: 0.882796, encoder : 0.398358, decoder : 54.382339\n",
      "<_io.TextIOWrapper name='./fpt.aae.log' mode='w' encoding='UTF-8'> epoch #62\n",
      "<_io.TextIOWrapper name='./fpt.aae.log' mode='w' encoding='UTF-8'> disc: 0.838935, encoder : 0.445028, decoder : 54.382339\n"
     ]
    },
    {
     "name": "stderr",
     "output_type": "stream",
     "text": [
      "\r",
      " 62%|██████▏   | 62/100 [04:39<02:51,  4.50s/it]"
     ]
    },
    {
     "name": "stdout",
     "output_type": "stream",
     "text": [
      "<_io.TextIOWrapper name='./fpt.aae.log' mode='w' encoding='UTF-8'> disc: 0.677787, encoder : 0.611890, decoder : 53.166431\n",
      "<_io.TextIOWrapper name='./fpt.aae.log' mode='w' encoding='UTF-8'> epoch #63\n",
      "<_io.TextIOWrapper name='./fpt.aae.log' mode='w' encoding='UTF-8'> disc: 0.622339, encoder : 0.711842, decoder : 53.166431\n"
     ]
    },
    {
     "name": "stderr",
     "output_type": "stream",
     "text": [
      "\r",
      " 63%|██████▎   | 63/100 [04:43<02:46,  4.50s/it]"
     ]
    },
    {
     "name": "stdout",
     "output_type": "stream",
     "text": [
      "<_io.TextIOWrapper name='./fpt.aae.log' mode='w' encoding='UTF-8'> disc: 0.829130, encoder : 0.435450, decoder : 53.780327\n",
      "<_io.TextIOWrapper name='./fpt.aae.log' mode='w' encoding='UTF-8'> epoch #64\n",
      "<_io.TextIOWrapper name='./fpt.aae.log' mode='w' encoding='UTF-8'> disc: 0.797288, encoder : 0.475851, decoder : 53.780327\n"
     ]
    },
    {
     "name": "stderr",
     "output_type": "stream",
     "text": [
      "\r",
      " 64%|██████▍   | 64/100 [04:47<02:41,  4.49s/it]"
     ]
    },
    {
     "name": "stdout",
     "output_type": "stream",
     "text": [
      "<_io.TextIOWrapper name='./fpt.aae.log' mode='w' encoding='UTF-8'> disc: 0.650183, encoder : 0.725025, decoder : 55.610207\n",
      "<_io.TextIOWrapper name='./fpt.aae.log' mode='w' encoding='UTF-8'> epoch #65\n",
      "<_io.TextIOWrapper name='./fpt.aae.log' mode='w' encoding='UTF-8'> disc: 0.607730, encoder : 0.838243, decoder : 55.610207\n"
     ]
    },
    {
     "name": "stderr",
     "output_type": "stream",
     "text": [
      "\r",
      " 65%|██████▌   | 65/100 [04:52<02:37,  4.50s/it]"
     ]
    },
    {
     "name": "stdout",
     "output_type": "stream",
     "text": [
      "<_io.TextIOWrapper name='./fpt.aae.log' mode='w' encoding='UTF-8'> disc: 0.626681, encoder : 0.732830, decoder : 54.468857\n",
      "<_io.TextIOWrapper name='./fpt.aae.log' mode='w' encoding='UTF-8'> epoch #66\n",
      "<_io.TextIOWrapper name='./fpt.aae.log' mode='w' encoding='UTF-8'> disc: 0.613237, encoder : 0.749278, decoder : 54.468857\n"
     ]
    },
    {
     "name": "stderr",
     "output_type": "stream",
     "text": [
      "\r",
      " 66%|██████▌   | 66/100 [04:56<02:32,  4.50s/it]"
     ]
    },
    {
     "name": "stdout",
     "output_type": "stream",
     "text": [
      "<_io.TextIOWrapper name='./fpt.aae.log' mode='w' encoding='UTF-8'> disc: 0.640237, encoder : 0.634483, decoder : 54.127495\n",
      "<_io.TextIOWrapper name='./fpt.aae.log' mode='w' encoding='UTF-8'> epoch #67\n",
      "<_io.TextIOWrapper name='./fpt.aae.log' mode='w' encoding='UTF-8'> disc: 0.601927, encoder : 0.690720, decoder : 54.127495\n"
     ]
    },
    {
     "name": "stderr",
     "output_type": "stream",
     "text": [
      "\r",
      " 67%|██████▋   | 67/100 [05:01<02:28,  4.50s/it]"
     ]
    },
    {
     "name": "stdout",
     "output_type": "stream",
     "text": [
      "<_io.TextIOWrapper name='./fpt.aae.log' mode='w' encoding='UTF-8'> disc: 0.653018, encoder : 0.572725, decoder : 53.650089\n",
      "<_io.TextIOWrapper name='./fpt.aae.log' mode='w' encoding='UTF-8'> epoch #68\n",
      "<_io.TextIOWrapper name='./fpt.aae.log' mode='w' encoding='UTF-8'> disc: 0.608586, encoder : 0.647191, decoder : 53.650089\n"
     ]
    },
    {
     "name": "stderr",
     "output_type": "stream",
     "text": [
      "\r",
      " 68%|██████▊   | 68/100 [05:05<02:23,  4.50s/it]"
     ]
    },
    {
     "name": "stdout",
     "output_type": "stream",
     "text": [
      "<_io.TextIOWrapper name='./fpt.aae.log' mode='w' encoding='UTF-8'> disc: 0.440161, encoder : 1.033023, decoder : 56.163029\n",
      "<_io.TextIOWrapper name='./fpt.aae.log' mode='w' encoding='UTF-8'> epoch #69\n",
      "<_io.TextIOWrapper name='./fpt.aae.log' mode='w' encoding='UTF-8'> disc: 0.426157, encoder : 1.070161, decoder : 56.163029\n"
     ]
    },
    {
     "name": "stderr",
     "output_type": "stream",
     "text": [
      "\r",
      " 69%|██████▉   | 69/100 [05:10<02:19,  4.50s/it]"
     ]
    },
    {
     "name": "stdout",
     "output_type": "stream",
     "text": [
      "<_io.TextIOWrapper name='./fpt.aae.log' mode='w' encoding='UTF-8'> disc: 0.394759, encoder : 1.154992, decoder : 50.951450\n",
      "<_io.TextIOWrapper name='./fpt.aae.log' mode='w' encoding='UTF-8'> epoch #70\n",
      "<_io.TextIOWrapper name='./fpt.aae.log' mode='w' encoding='UTF-8'> disc: 0.376040, encoder : 1.210352, decoder : 50.951450\n"
     ]
    },
    {
     "name": "stderr",
     "output_type": "stream",
     "text": [
      "\r",
      " 70%|███████   | 70/100 [05:14<02:14,  4.50s/it]"
     ]
    },
    {
     "name": "stdout",
     "output_type": "stream",
     "text": [
      "<_io.TextIOWrapper name='./fpt.aae.log' mode='w' encoding='UTF-8'> disc: 0.522755, encoder : 0.794339, decoder : 57.992599\n",
      "<_io.TextIOWrapper name='./fpt.aae.log' mode='w' encoding='UTF-8'> epoch #71\n",
      "<_io.TextIOWrapper name='./fpt.aae.log' mode='w' encoding='UTF-8'> disc: 0.491423, encoder : 0.862394, decoder : 57.992599\n"
     ]
    },
    {
     "name": "stderr",
     "output_type": "stream",
     "text": [
      "\r",
      " 71%|███████   | 71/100 [05:19<02:10,  4.50s/it]"
     ]
    },
    {
     "name": "stdout",
     "output_type": "stream",
     "text": [
      "<_io.TextIOWrapper name='./fpt.aae.log' mode='w' encoding='UTF-8'> disc: 0.803507, encoder : 0.409960, decoder : 53.596413\n",
      "<_io.TextIOWrapper name='./fpt.aae.log' mode='w' encoding='UTF-8'> epoch #72\n",
      "<_io.TextIOWrapper name='./fpt.aae.log' mode='w' encoding='UTF-8'> disc: 0.770115, encoder : 0.452252, decoder : 53.596413\n"
     ]
    },
    {
     "name": "stderr",
     "output_type": "stream",
     "text": [
      "\r",
      " 72%|███████▏  | 72/100 [05:23<02:05,  4.50s/it]"
     ]
    },
    {
     "name": "stdout",
     "output_type": "stream",
     "text": [
      "<_io.TextIOWrapper name='./fpt.aae.log' mode='w' encoding='UTF-8'> disc: 0.883976, encoder : 0.325835, decoder : 55.319836\n",
      "<_io.TextIOWrapper name='./fpt.aae.log' mode='w' encoding='UTF-8'> epoch #73\n",
      "<_io.TextIOWrapper name='./fpt.aae.log' mode='w' encoding='UTF-8'> disc: 0.839311, encoder : 0.367691, decoder : 55.319836\n"
     ]
    },
    {
     "name": "stderr",
     "output_type": "stream",
     "text": [
      "\r",
      " 73%|███████▎  | 73/100 [05:28<02:01,  4.49s/it]"
     ]
    },
    {
     "name": "stdout",
     "output_type": "stream",
     "text": [
      "<_io.TextIOWrapper name='./fpt.aae.log' mode='w' encoding='UTF-8'> disc: 0.651252, encoder : 0.632048, decoder : 57.210323\n",
      "<_io.TextIOWrapper name='./fpt.aae.log' mode='w' encoding='UTF-8'> epoch #74\n",
      "<_io.TextIOWrapper name='./fpt.aae.log' mode='w' encoding='UTF-8'> disc: 0.610067, encoder : 0.717396, decoder : 57.210323\n"
     ]
    },
    {
     "name": "stderr",
     "output_type": "stream",
     "text": [
      "\r",
      " 74%|███████▍  | 74/100 [05:32<01:56,  4.50s/it]"
     ]
    },
    {
     "name": "stdout",
     "output_type": "stream",
     "text": [
      "<_io.TextIOWrapper name='./fpt.aae.log' mode='w' encoding='UTF-8'> disc: 0.518931, encoder : 0.879134, decoder : 55.373074\n",
      "<_io.TextIOWrapper name='./fpt.aae.log' mode='w' encoding='UTF-8'> epoch #75\n",
      "<_io.TextIOWrapper name='./fpt.aae.log' mode='w' encoding='UTF-8'> disc: 0.455039, encoder : 1.088252, decoder : 55.373074\n"
     ]
    },
    {
     "name": "stderr",
     "output_type": "stream",
     "text": [
      "\r",
      " 75%|███████▌  | 75/100 [05:37<01:52,  4.50s/it]"
     ]
    },
    {
     "name": "stdout",
     "output_type": "stream",
     "text": [
      "<_io.TextIOWrapper name='./fpt.aae.log' mode='w' encoding='UTF-8'> disc: 0.435778, encoder : 1.116821, decoder : 58.784641\n",
      "<_io.TextIOWrapper name='./fpt.aae.log' mode='w' encoding='UTF-8'> epoch #76\n",
      "<_io.TextIOWrapper name='./fpt.aae.log' mode='w' encoding='UTF-8'> disc: 0.400544, encoder : 1.268507, decoder : 58.784641\n"
     ]
    },
    {
     "name": "stderr",
     "output_type": "stream",
     "text": [
      "\r",
      " 76%|███████▌  | 76/100 [05:41<01:47,  4.50s/it]"
     ]
    },
    {
     "name": "stdout",
     "output_type": "stream",
     "text": [
      "<_io.TextIOWrapper name='./fpt.aae.log' mode='w' encoding='UTF-8'> disc: 0.433632, encoder : 1.021152, decoder : 60.738663\n",
      "<_io.TextIOWrapper name='./fpt.aae.log' mode='w' encoding='UTF-8'> epoch #77\n",
      "<_io.TextIOWrapper name='./fpt.aae.log' mode='w' encoding='UTF-8'> disc: 0.408630, encoder : 1.105665, decoder : 60.738663\n"
     ]
    },
    {
     "name": "stderr",
     "output_type": "stream",
     "text": [
      "\r",
      " 77%|███████▋  | 77/100 [05:45<01:43,  4.49s/it]"
     ]
    },
    {
     "name": "stdout",
     "output_type": "stream",
     "text": [
      "<_io.TextIOWrapper name='./fpt.aae.log' mode='w' encoding='UTF-8'> disc: 0.367132, encoder : 1.110678, decoder : 59.209126\n",
      "<_io.TextIOWrapper name='./fpt.aae.log' mode='w' encoding='UTF-8'> epoch #78\n",
      "<_io.TextIOWrapper name='./fpt.aae.log' mode='w' encoding='UTF-8'> disc: 0.355998, encoder : 1.151133, decoder : 59.209126\n"
     ]
    },
    {
     "name": "stderr",
     "output_type": "stream",
     "text": [
      "\r",
      " 78%|███████▊  | 78/100 [05:50<01:38,  4.49s/it]"
     ]
    },
    {
     "name": "stdout",
     "output_type": "stream",
     "text": [
      "<_io.TextIOWrapper name='./fpt.aae.log' mode='w' encoding='UTF-8'> disc: 0.313748, encoder : 1.258076, decoder : 54.748440\n",
      "<_io.TextIOWrapper name='./fpt.aae.log' mode='w' encoding='UTF-8'> epoch #79\n",
      "<_io.TextIOWrapper name='./fpt.aae.log' mode='w' encoding='UTF-8'> disc: 0.305356, encoder : 1.288247, decoder : 54.748440\n"
     ]
    },
    {
     "name": "stderr",
     "output_type": "stream",
     "text": [
      "\r",
      " 79%|███████▉  | 79/100 [05:55<01:34,  4.50s/it]"
     ]
    },
    {
     "name": "stdout",
     "output_type": "stream",
     "text": [
      "<_io.TextIOWrapper name='./fpt.aae.log' mode='w' encoding='UTF-8'> disc: 0.238318, encoder : 1.745975, decoder : 52.339291\n",
      "<_io.TextIOWrapper name='./fpt.aae.log' mode='w' encoding='UTF-8'> epoch #80\n",
      "<_io.TextIOWrapper name='./fpt.aae.log' mode='w' encoding='UTF-8'> disc: 0.227270, encoder : 1.830591, decoder : 52.339291\n"
     ]
    },
    {
     "name": "stderr",
     "output_type": "stream",
     "text": [
      "\r",
      " 80%|████████  | 80/100 [05:59<01:29,  4.50s/it]"
     ]
    },
    {
     "name": "stdout",
     "output_type": "stream",
     "text": [
      "<_io.TextIOWrapper name='./fpt.aae.log' mode='w' encoding='UTF-8'> disc: 0.409184, encoder : 1.122311, decoder : 54.288116\n",
      "<_io.TextIOWrapper name='./fpt.aae.log' mode='w' encoding='UTF-8'> epoch #81\n",
      "<_io.TextIOWrapper name='./fpt.aae.log' mode='w' encoding='UTF-8'> disc: 0.374050, encoder : 1.212247, decoder : 54.288116\n"
     ]
    },
    {
     "name": "stderr",
     "output_type": "stream",
     "text": [
      "\r",
      " 81%|████████  | 81/100 [06:04<01:25,  4.50s/it]"
     ]
    },
    {
     "name": "stdout",
     "output_type": "stream",
     "text": [
      "<_io.TextIOWrapper name='./fpt.aae.log' mode='w' encoding='UTF-8'> disc: 0.262311, encoder : 1.421430, decoder : 55.959263\n",
      "<_io.TextIOWrapper name='./fpt.aae.log' mode='w' encoding='UTF-8'> epoch #82\n",
      "<_io.TextIOWrapper name='./fpt.aae.log' mode='w' encoding='UTF-8'> disc: 0.241854, encoder : 1.562162, decoder : 55.959263\n"
     ]
    },
    {
     "name": "stderr",
     "output_type": "stream",
     "text": [
      "\r",
      " 82%|████████▏ | 82/100 [06:08<01:20,  4.49s/it]"
     ]
    },
    {
     "name": "stdout",
     "output_type": "stream",
     "text": [
      "<_io.TextIOWrapper name='./fpt.aae.log' mode='w' encoding='UTF-8'> disc: 0.295450, encoder : 1.185155, decoder : 56.933044\n",
      "<_io.TextIOWrapper name='./fpt.aae.log' mode='w' encoding='UTF-8'> epoch #83\n",
      "<_io.TextIOWrapper name='./fpt.aae.log' mode='w' encoding='UTF-8'> disc: 0.282530, encoder : 1.244603, decoder : 56.933044\n"
     ]
    },
    {
     "name": "stderr",
     "output_type": "stream",
     "text": [
      "\r",
      " 83%|████████▎ | 83/100 [06:13<01:16,  4.49s/it]"
     ]
    },
    {
     "name": "stdout",
     "output_type": "stream",
     "text": [
      "<_io.TextIOWrapper name='./fpt.aae.log' mode='w' encoding='UTF-8'> disc: 0.335077, encoder : 1.056813, decoder : 54.225414\n",
      "<_io.TextIOWrapper name='./fpt.aae.log' mode='w' encoding='UTF-8'> epoch #84\n",
      "<_io.TextIOWrapper name='./fpt.aae.log' mode='w' encoding='UTF-8'> disc: 0.315229, encoder : 1.123079, decoder : 54.225414\n"
     ]
    },
    {
     "name": "stderr",
     "output_type": "stream",
     "text": [
      "\r",
      " 84%|████████▍ | 84/100 [06:17<01:11,  4.50s/it]"
     ]
    },
    {
     "name": "stdout",
     "output_type": "stream",
     "text": [
      "<_io.TextIOWrapper name='./fpt.aae.log' mode='w' encoding='UTF-8'> disc: 0.611289, encoder : 0.525579, decoder : 57.602619\n",
      "<_io.TextIOWrapper name='./fpt.aae.log' mode='w' encoding='UTF-8'> epoch #85\n",
      "<_io.TextIOWrapper name='./fpt.aae.log' mode='w' encoding='UTF-8'> disc: 0.475723, encoder : 0.763484, decoder : 57.602619\n"
     ]
    },
    {
     "name": "stderr",
     "output_type": "stream",
     "text": [
      "\r",
      " 85%|████████▌ | 85/100 [06:22<01:07,  4.50s/it]"
     ]
    },
    {
     "name": "stdout",
     "output_type": "stream",
     "text": [
      "<_io.TextIOWrapper name='./fpt.aae.log' mode='w' encoding='UTF-8'> disc: 0.380551, encoder : 0.972624, decoder : 69.536087\n",
      "<_io.TextIOWrapper name='./fpt.aae.log' mode='w' encoding='UTF-8'> epoch #86\n",
      "<_io.TextIOWrapper name='./fpt.aae.log' mode='w' encoding='UTF-8'> disc: 0.368066, encoder : 1.010921, decoder : 69.536087\n"
     ]
    },
    {
     "name": "stderr",
     "output_type": "stream",
     "text": [
      "\r",
      " 86%|████████▌ | 86/100 [06:26<01:02,  4.49s/it]"
     ]
    },
    {
     "name": "stdout",
     "output_type": "stream",
     "text": [
      "<_io.TextIOWrapper name='./fpt.aae.log' mode='w' encoding='UTF-8'> disc: 0.329615, encoder : 1.106925, decoder : 51.154160\n",
      "<_io.TextIOWrapper name='./fpt.aae.log' mode='w' encoding='UTF-8'> epoch #87\n",
      "<_io.TextIOWrapper name='./fpt.aae.log' mode='w' encoding='UTF-8'> disc: 0.321229, encoder : 1.138587, decoder : 51.154160\n"
     ]
    },
    {
     "name": "stderr",
     "output_type": "stream",
     "text": [
      "\r",
      " 87%|████████▋ | 87/100 [06:30<00:58,  4.49s/it]"
     ]
    },
    {
     "name": "stdout",
     "output_type": "stream",
     "text": [
      "<_io.TextIOWrapper name='./fpt.aae.log' mode='w' encoding='UTF-8'> disc: 0.226589, encoder : 1.652507, decoder : 49.845028\n",
      "<_io.TextIOWrapper name='./fpt.aae.log' mode='w' encoding='UTF-8'> epoch #88\n",
      "<_io.TextIOWrapper name='./fpt.aae.log' mode='w' encoding='UTF-8'> disc: 0.212155, encoder : 1.762904, decoder : 49.845028\n"
     ]
    },
    {
     "name": "stderr",
     "output_type": "stream",
     "text": [
      "\r",
      " 88%|████████▊ | 88/100 [06:35<00:53,  4.49s/it]"
     ]
    },
    {
     "name": "stdout",
     "output_type": "stream",
     "text": [
      "<_io.TextIOWrapper name='./fpt.aae.log' mode='w' encoding='UTF-8'> disc: 0.568472, encoder : 0.625226, decoder : 63.028385\n",
      "<_io.TextIOWrapper name='./fpt.aae.log' mode='w' encoding='UTF-8'> epoch #89\n",
      "<_io.TextIOWrapper name='./fpt.aae.log' mode='w' encoding='UTF-8'> disc: 0.507405, encoder : 0.757601, decoder : 63.028385\n"
     ]
    },
    {
     "name": "stderr",
     "output_type": "stream",
     "text": [
      "\r",
      " 89%|████████▉ | 89/100 [06:40<00:49,  4.49s/it]"
     ]
    },
    {
     "name": "stdout",
     "output_type": "stream",
     "text": [
      "<_io.TextIOWrapper name='./fpt.aae.log' mode='w' encoding='UTF-8'> disc: 0.358089, encoder : 1.161271, decoder : 59.961357\n",
      "<_io.TextIOWrapper name='./fpt.aae.log' mode='w' encoding='UTF-8'> epoch #90\n",
      "<_io.TextIOWrapper name='./fpt.aae.log' mode='w' encoding='UTF-8'> disc: 0.338169, encoder : 1.237602, decoder : 59.961357\n"
     ]
    },
    {
     "name": "stderr",
     "output_type": "stream",
     "text": [
      "\r",
      " 90%|█████████ | 90/100 [06:44<00:44,  4.49s/it]"
     ]
    },
    {
     "name": "stdout",
     "output_type": "stream",
     "text": [
      "<_io.TextIOWrapper name='./fpt.aae.log' mode='w' encoding='UTF-8'> disc: 0.461752, encoder : 0.919503, decoder : 61.457417\n",
      "<_io.TextIOWrapper name='./fpt.aae.log' mode='w' encoding='UTF-8'> epoch #91\n",
      "<_io.TextIOWrapper name='./fpt.aae.log' mode='w' encoding='UTF-8'> disc: 0.412278, encoder : 1.043875, decoder : 61.457417\n"
     ]
    },
    {
     "name": "stderr",
     "output_type": "stream",
     "text": [
      "\r",
      " 91%|█████████ | 91/100 [06:48<00:40,  4.49s/it]"
     ]
    },
    {
     "name": "stdout",
     "output_type": "stream",
     "text": [
      "<_io.TextIOWrapper name='./fpt.aae.log' mode='w' encoding='UTF-8'> disc: 0.411352, encoder : 0.941319, decoder : 56.840759\n",
      "<_io.TextIOWrapper name='./fpt.aae.log' mode='w' encoding='UTF-8'> epoch #92\n",
      "<_io.TextIOWrapper name='./fpt.aae.log' mode='w' encoding='UTF-8'> disc: 0.336126, encoder : 1.194388, decoder : 56.840759\n"
     ]
    },
    {
     "name": "stderr",
     "output_type": "stream",
     "text": [
      "\r",
      " 92%|█████████▏| 92/100 [06:53<00:35,  4.49s/it]"
     ]
    },
    {
     "name": "stdout",
     "output_type": "stream",
     "text": [
      "<_io.TextIOWrapper name='./fpt.aae.log' mode='w' encoding='UTF-8'> disc: 0.259521, encoder : 1.481863, decoder : 58.763603\n",
      "<_io.TextIOWrapper name='./fpt.aae.log' mode='w' encoding='UTF-8'> epoch #93\n",
      "<_io.TextIOWrapper name='./fpt.aae.log' mode='w' encoding='UTF-8'> disc: 0.218689, encoder : 1.805429, decoder : 58.763603\n"
     ]
    },
    {
     "name": "stderr",
     "output_type": "stream",
     "text": [
      "\r",
      " 93%|█████████▎| 93/100 [06:57<00:31,  4.49s/it]"
     ]
    },
    {
     "name": "stdout",
     "output_type": "stream",
     "text": [
      "<_io.TextIOWrapper name='./fpt.aae.log' mode='w' encoding='UTF-8'> disc: 0.299997, encoder : 1.326182, decoder : 59.837673\n",
      "<_io.TextIOWrapper name='./fpt.aae.log' mode='w' encoding='UTF-8'> epoch #94\n",
      "<_io.TextIOWrapper name='./fpt.aae.log' mode='w' encoding='UTF-8'> disc: 0.260425, encoder : 1.481551, decoder : 59.837673\n"
     ]
    },
    {
     "name": "stderr",
     "output_type": "stream",
     "text": [
      "\r",
      " 94%|█████████▍| 94/100 [07:02<00:26,  4.50s/it]"
     ]
    },
    {
     "name": "stdout",
     "output_type": "stream",
     "text": [
      "<_io.TextIOWrapper name='./fpt.aae.log' mode='w' encoding='UTF-8'> disc: 0.283325, encoder : 1.345041, decoder : 59.349876\n",
      "<_io.TextIOWrapper name='./fpt.aae.log' mode='w' encoding='UTF-8'> epoch #95\n",
      "<_io.TextIOWrapper name='./fpt.aae.log' mode='w' encoding='UTF-8'> disc: 0.258961, encoder : 1.475124, decoder : 59.349876\n"
     ]
    },
    {
     "name": "stderr",
     "output_type": "stream",
     "text": [
      "\r",
      " 95%|█████████▌| 95/100 [07:06<00:22,  4.49s/it]"
     ]
    },
    {
     "name": "stdout",
     "output_type": "stream",
     "text": [
      "<_io.TextIOWrapper name='./fpt.aae.log' mode='w' encoding='UTF-8'> disc: 0.333328, encoder : 1.240120, decoder : 65.217026\n",
      "<_io.TextIOWrapper name='./fpt.aae.log' mode='w' encoding='UTF-8'> epoch #96\n",
      "<_io.TextIOWrapper name='./fpt.aae.log' mode='w' encoding='UTF-8'> disc: 0.273420, encoder : 1.517716, decoder : 65.217026\n"
     ]
    },
    {
     "name": "stderr",
     "output_type": "stream",
     "text": [
      "\r",
      " 96%|█████████▌| 96/100 [07:11<00:17,  4.49s/it]"
     ]
    },
    {
     "name": "stdout",
     "output_type": "stream",
     "text": [
      "<_io.TextIOWrapper name='./fpt.aae.log' mode='w' encoding='UTF-8'> disc: 0.308405, encoder : 1.345277, decoder : 59.858768\n",
      "<_io.TextIOWrapper name='./fpt.aae.log' mode='w' encoding='UTF-8'> epoch #97\n",
      "<_io.TextIOWrapper name='./fpt.aae.log' mode='w' encoding='UTF-8'> disc: 0.246261, encoder : 1.740395, decoder : 59.858768\n"
     ]
    },
    {
     "name": "stderr",
     "output_type": "stream",
     "text": [
      "\r",
      " 97%|█████████▋| 97/100 [07:15<00:13,  4.49s/it]"
     ]
    },
    {
     "name": "stdout",
     "output_type": "stream",
     "text": [
      "<_io.TextIOWrapper name='./fpt.aae.log' mode='w' encoding='UTF-8'> disc: 0.281948, encoder : 1.841047, decoder : 59.228527\n",
      "<_io.TextIOWrapper name='./fpt.aae.log' mode='w' encoding='UTF-8'> epoch #98\n",
      "<_io.TextIOWrapper name='./fpt.aae.log' mode='w' encoding='UTF-8'> disc: 0.241868, encoder : 2.078565, decoder : 59.228527\n"
     ]
    },
    {
     "name": "stderr",
     "output_type": "stream",
     "text": [
      "\r",
      " 98%|█████████▊| 98/100 [07:20<00:08,  4.49s/it]"
     ]
    },
    {
     "name": "stdout",
     "output_type": "stream",
     "text": [
      "<_io.TextIOWrapper name='./fpt.aae.log' mode='w' encoding='UTF-8'> disc: 0.227922, encoder : 1.440739, decoder : 59.231255\n",
      "<_io.TextIOWrapper name='./fpt.aae.log' mode='w' encoding='UTF-8'> epoch #99\n",
      "<_io.TextIOWrapper name='./fpt.aae.log' mode='w' encoding='UTF-8'> disc: 0.210966, encoder : 1.548348, decoder : 59.231255\n"
     ]
    },
    {
     "name": "stderr",
     "output_type": "stream",
     "text": [
      "\r",
      " 99%|█████████▉| 99/100 [07:24<00:04,  4.49s/it]"
     ]
    },
    {
     "name": "stdout",
     "output_type": "stream",
     "text": [
      "<_io.TextIOWrapper name='./fpt.aae.log' mode='w' encoding='UTF-8'> disc: 0.251626, encoder : 1.246556, decoder : 57.076916\n",
      "<_io.TextIOWrapper name='./fpt.aae.log' mode='w' encoding='UTF-8'> epoch #100\n",
      "<_io.TextIOWrapper name='./fpt.aae.log' mode='w' encoding='UTF-8'> disc: 0.231803, encoder : 1.347641, decoder : 57.076916\n"
     ]
    },
    {
     "name": "stderr",
     "output_type": "stream",
     "text": [
      "\r",
      "100%|██████████| 100/100 [07:28<00:00,  4.49s/it]"
     ]
    },
    {
     "name": "stdout",
     "output_type": "stream",
     "text": [
      "<_io.TextIOWrapper name='./fpt.aae.log' mode='w' encoding='UTF-8'> disc: 0.187764, encoder : 1.581658, decoder : 56.367889\n"
     ]
    },
    {
     "name": "stderr",
     "output_type": "stream",
     "text": [
      "\n"
     ]
    }
   ],
   "source": [
    "# Train AAE\n",
    "\n",
    "with open('./fpt.aae.log', 'w') as log:\n",
    "     hist1 = aae.train(log, num_of_epochs)"
   ]
  },
  {
   "cell_type": "markdown",
   "metadata": {
    "colab_type": "text",
    "id": "xq7aICmjHH7i"
   },
   "source": [
    "Generation of new samples"
   ]
  },
  {
   "cell_type": "code",
   "execution_count": 0,
   "metadata": {
    "colab": {},
    "colab_type": "code",
    "id": "nQ-zLz6WdudY"
   },
   "outputs": [],
   "source": [
    "# Generate new samples\n",
    "\n",
    "test_data = load_test()\n",
    "assert test_data.shape == (num_of_test_instances, input_layer_size)\n",
    "\n",
    "test_gen = buffered_gen(test, batch_n=aae.batch_size)\n",
    "batch_x = test_gen.__next__()\n",
    "assert len(batch_x[0]) == input_layer_size\n",
    "\n",
    "enc = aae.sess.run(aae.encoded, feed_dict={aae.input_x: test_data})\n",
    "assert enc.shape == (num_of_test_instances, latent_layer_size)\n",
    "\n",
    "dec = aae.sess.run(aae.decoded, feed_dict={aae.input_x: batch_x})\n",
    "assert dec.shape == (batch_size_for_model, output_layer_size)\n",
    "assert len(dec[0]) == output_layer_size\n",
    "\n",
    "def convert_to_fingerprint(arr):\n",
    "  fp = []\n",
    "  for a in arr:\n",
    "    if (a < 0.5):\n",
    "      fp.append(0)\n",
    "    else:\n",
    "      fp.append(1)\n",
    "   \n",
    "  return np.array(fp)"
   ]
  },
  {
   "cell_type": "code",
   "execution_count": 9,
   "metadata": {
    "colab": {
     "base_uri": "https://localhost:8080/",
     "height": 163
    },
    "colab_type": "code",
    "id": "FTv7sIK8FiGM",
    "outputId": "c449e10d-911e-4206-cc14-667fd6d6eb77"
   },
   "outputs": [
    {
     "data": {
      "text/plain": [
       "array([0, 0, 0, 0, 0, 0, 0, 0, 0, 0, 0, 0, 0, 0, 0, 0, 0, 0, 0, 0, 0, 0,\n",
       "       0, 0, 0, 0, 0, 0, 0, 0, 0, 0, 0, 0, 0, 0, 0, 0, 0, 0, 0, 0, 0, 0,\n",
       "       0, 0, 0, 0, 0, 0, 0, 0, 0, 0, 0, 0, 0, 0, 0, 0, 1, 0, 0, 0, 0, 0,\n",
       "       0, 0, 0, 0, 0, 0, 0, 0, 0, 0, 0, 0, 0, 0, 0, 1, 0, 0, 0, 0, 0, 0,\n",
       "       0, 0, 0, 0, 0, 0, 1, 0, 0, 0, 0, 0, 0, 0, 1, 0, 0, 0, 0, 0, 0, 0,\n",
       "       0, 0, 0, 0, 0, 0, 0, 0, 0, 0, 0, 0, 0, 0, 1, 0, 0, 1, 0, 0, 1, 0,\n",
       "       0, 0, 0, 0, 1, 0, 0, 0, 0, 0, 1, 1, 0, 0, 1, 0, 1, 0, 1, 0, 0, 0,\n",
       "       1, 0, 1, 0, 1, 1, 1, 1, 1, 1, 1, 1, 0])"
      ]
     },
     "execution_count": 9,
     "metadata": {
      "tags": []
     },
     "output_type": "execute_result"
    }
   ],
   "source": [
    "# Check one of the generated samples\n",
    "\n",
    "generated_fingerprint = convert_to_fingerprint(dec[0])\n",
    "generated_fingerprint"
   ]
  },
  {
   "cell_type": "markdown",
   "metadata": {
    "colab_type": "text",
    "id": "g8wuDv_wHMzx"
   },
   "source": [
    "Analysis of generated samples"
   ]
  },
  {
   "cell_type": "code",
   "execution_count": 0,
   "metadata": {
    "colab": {},
    "colab_type": "code",
    "id": "JDq0YQhJlwSD"
   },
   "outputs": [],
   "source": [
    "# Functions for analysis of generated samples\n",
    "\n",
    "def calc_mean_mean(set):\n",
    "  mean_mean = 0\n",
    "  for a in set:\n",
    "    mean_mean += np.mean(a)\n",
    "  mean_mean /= len(set)\n",
    "  \n",
    "  return mean_mean\n",
    "\n",
    "def calc_mean_var(set):\n",
    "  mean_var = 0\n",
    "  for a in set:\n",
    "    mean_var += np.var(a)\n",
    "  mean_var /= len(set)\n",
    "  \n",
    "  return mean_var"
   ]
  },
  {
   "cell_type": "code",
   "execution_count": 11,
   "metadata": {
    "colab": {
     "base_uri": "https://localhost:8080/",
     "height": 35
    },
    "colab_type": "code",
    "id": "ytUJ-88QmznF",
    "outputId": "88d7d2db-6b70-45e4-d0da-1439a9ddf9fd"
   },
   "outputs": [
    {
     "name": "stdout",
     "output_type": "stream",
     "text": [
      "mean mean = -2.2987413390073925, mean var = 8.140357475727797\n"
     ]
    }
   ],
   "source": [
    "# Display analysis results\n",
    "\n",
    "print (\"mean mean = \" + str(calc_mean_mean(dec)) + \", mean var = \" + str(calc_mean_var(dec)))"
   ]
  },
  {
   "cell_type": "markdown",
   "metadata": {
    "colab_type": "text",
    "id": "iRMXCRPXHUsK"
   },
   "source": [
    "Retrieving and removing of files"
   ]
  },
  {
   "cell_type": "code",
   "execution_count": 0,
   "metadata": {
    "colab": {},
    "colab_type": "code",
    "id": "ckaAi1vVEd6l"
   },
   "outputs": [],
   "source": [
    "# Retrieve names of event files\n",
    "\n",
    "x = subprocess.Popen(['ls', logdir], stdout=subprocess.PIPE)\n",
    "(out, err) = x.communicate()\n",
    "events = str(out.strip()).split(\"'\")[1].split('\\\\n')"
   ]
  },
  {
   "cell_type": "code",
   "execution_count": 0,
   "metadata": {
    "colab": {},
    "colab_type": "code",
    "id": "4teHyjwvn1Tf"
   },
   "outputs": [],
   "source": [
    "# Download necessary files\n",
    "\n",
    "files.download('fpt.aae.95e.model.ckpt.data-00000-of-00001')\n",
    "files.download('fpt.aae.95e.model.ckpt.index')\n",
    "files.download('fpt.aae.95e.model.ckpt.meta')\n",
    "\n",
    "files.download('fpt.aae.99e.model.ckpt.data-00000-of-00001')\n",
    "files.download('fpt.aae.99e.model.ckpt.index')\n",
    "files.download('fpt.aae.99e.model.ckpt.meta')\n",
    "\n",
    "for event in events:\n",
    "  files.download(logdir + event)"
   ]
  },
  {
   "cell_type": "code",
   "execution_count": 0,
   "metadata": {
    "colab": {},
    "colab_type": "code",
    "id": "o8bXd0XLH4RH"
   },
   "outputs": [],
   "source": [
    "# Remove downloaded/unneeded files\n",
    "# NOTE: Delete with caution\n",
    "\n",
    "try:\n",
    "  subprocess.call(['rm', 'fpt.aae.95e.model.ckpt.data-00000-of-00001'])\n",
    "  subprocess.call(['rm', 'fpt.aae.95e.model.ckpt.index'])\n",
    "  subprocess.call(['rm', 'fpt.aae.95e.model.ckpt.meta'])\n",
    "  subprocess.call(['rm', 'fpt.aae.96e.model.ckpt.data-00000-of-00001'])\n",
    "  subprocess.call(['rm', 'fpt.aae.96e.model.ckpt.index'])\n",
    "  subprocess.call(['rm', 'fpt.aae.96e.model.ckpt.meta'])\n",
    "  subprocess.call(['rm', 'fpt.aae.97e.model.ckpt.data-00000-of-00001'])\n",
    "  subprocess.call(['rm', 'fpt.aae.97e.model.ckpt.index'])\n",
    "  subprocess.call(['rm', 'fpt.aae.97e.model.ckpt.meta'])\n",
    "  subprocess.call(['rm', 'fpt.aae.98e.model.ckpt.data-00000-of-00001'])\n",
    "  subprocess.call(['rm', 'fpt.aae.98e.model.ckpt.index'])\n",
    "  subprocess.call(['rm', 'fpt.aae.98e.model.ckpt.meta'])\n",
    "  subprocess.call(['rm', 'fpt.aae.99e.model.ckpt.data-00000-of-00001'])\n",
    "  subprocess.call(['rm', 'fpt.aae.99e.model.ckpt.index'])\n",
    "  subprocess.call(['rm', 'fpt.aae.99e.model.ckpt.meta'])\n",
    "  subprocess.call(['rm', 'fpt.aae.log'])\n",
    "  subprocess.call(['rm', '-rvf', 'tmp'])\n",
    "except:\n",
    "  print (\"Exception.\")"
   ]
  }
 ],
 "metadata": {
  "accelerator": "GPU",
  "colab": {
   "collapsed_sections": [],
   "name": "drug_gen.ipynb",
   "provenance": [],
   "version": "0.3.2"
  },
  "kernelspec": {
   "display_name": "Python 3",
   "language": "python",
   "name": "python3"
  },
  "language_info": {
   "codemirror_mode": {
    "name": "ipython",
    "version": 3
   },
   "file_extension": ".py",
   "mimetype": "text/x-python",
   "name": "python",
   "nbconvert_exporter": "python",
   "pygments_lexer": "ipython3",
   "version": "3.6.5"
  }
 },
 "nbformat": 4,
 "nbformat_minor": 1
}
